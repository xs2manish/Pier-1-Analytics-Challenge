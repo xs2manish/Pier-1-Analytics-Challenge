{
 "cells": [
  {
   "cell_type": "code",
   "execution_count": 22,
   "metadata": {},
   "outputs": [],
   "source": [
    "import pandas as pd\n",
    "from textblob import TextBlob\n",
    "import seaborn as sns"
   ]
  },
  {
   "cell_type": "code",
   "execution_count": 3,
   "metadata": {},
   "outputs": [
    {
     "name": "stderr",
     "output_type": "stream",
     "text": [
      "C:\\Users\\priya\\Anaconda3\\lib\\site-packages\\IPython\\core\\interactiveshell.py:3020: DtypeWarning: Columns (2,10) have mixed types. Specify dtype option on import or set low_memory=False.\n",
      "  interactivity=interactivity, compiler=compiler, result=result)\n"
     ]
    }
   ],
   "source": [
    "df1=pd.read_csv(r'D:/Datasets/UTA2019/CleanedData_2.csv')"
   ]
  },
  {
   "cell_type": "code",
   "execution_count": 68,
   "metadata": {},
   "outputs": [
    {
     "data": {
      "text/plain": [
       "(202406, 13)"
      ]
     },
     "execution_count": 68,
     "metadata": {},
     "output_type": "execute_result"
    }
   ],
   "source": [
    "df1.shape"
   ]
  },
  {
   "cell_type": "code",
   "execution_count": 7,
   "metadata": {},
   "outputs": [],
   "source": [
    "df2=pd.read_csv(r'D:/Datasets/UTA2019/P1ProductData_UTA2019.csv')"
   ]
  },
  {
   "cell_type": "code",
   "execution_count": 8,
   "metadata": {},
   "outputs": [
    {
     "data": {
      "text/html": [
       "<div>\n",
       "<style scoped>\n",
       "    .dataframe tbody tr th:only-of-type {\n",
       "        vertical-align: middle;\n",
       "    }\n",
       "\n",
       "    .dataframe tbody tr th {\n",
       "        vertical-align: top;\n",
       "    }\n",
       "\n",
       "    .dataframe thead th {\n",
       "        text-align: right;\n",
       "    }\n",
       "</style>\n",
       "<table border=\"1\" class=\"dataframe\">\n",
       "  <thead>\n",
       "    <tr style=\"text-align: right;\">\n",
       "      <th></th>\n",
       "      <th>SKU</th>\n",
       "      <th>ProductName</th>\n",
       "      <th>CountOfBigTransactions</th>\n",
       "      <th>ClassID</th>\n",
       "      <th>Weight</th>\n",
       "      <th>Width</th>\n",
       "      <th>Depth</th>\n",
       "      <th>Height</th>\n",
       "      <th>LifeCycleName</th>\n",
       "      <th>FinishName</th>\n",
       "      <th>Color</th>\n",
       "      <th>Season</th>\n",
       "      <th>SizeOrUtility</th>\n",
       "      <th>Material</th>\n",
       "      <th>CountryOfOrigin</th>\n",
       "      <th>Quartile</th>\n",
       "      <th>display-name</th>\n",
       "      <th>online-flag</th>\n",
       "      <th>long-description</th>\n",
       "    </tr>\n",
       "  </thead>\n",
       "  <tbody>\n",
       "    <tr>\n",
       "      <th>0</th>\n",
       "      <td>2790275</td>\n",
       "      <td>RPL HDW COLETTE LEGS</td>\n",
       "      <td>0</td>\n",
       "      <td>9801</td>\n",
       "      <td>1.10</td>\n",
       "      <td>3.35</td>\n",
       "      <td>3.35</td>\n",
       "      <td>11.93</td>\n",
       "      <td>FUT</td>\n",
       "      <td>NaN</td>\n",
       "      <td>Brown - Espresso</td>\n",
       "      <td>NaN</td>\n",
       "      <td>NaN</td>\n",
       "      <td>NaN</td>\n",
       "      <td>China</td>\n",
       "      <td>1</td>\n",
       "      <td>NaN</td>\n",
       "      <td>NaN</td>\n",
       "      <td>NaN</td>\n",
       "    </tr>\n",
       "    <tr>\n",
       "      <th>1</th>\n",
       "      <td>3191777</td>\n",
       "      <td>google express</td>\n",
       "      <td>0</td>\n",
       "      <td>7590</td>\n",
       "      <td>1.00</td>\n",
       "      <td>1.00</td>\n",
       "      <td>1.00</td>\n",
       "      <td>1.00</td>\n",
       "      <td>FUT</td>\n",
       "      <td>NaN</td>\n",
       "      <td>Blue</td>\n",
       "      <td>NaN</td>\n",
       "      <td>NaN</td>\n",
       "      <td>NaN</td>\n",
       "      <td>United States</td>\n",
       "      <td>1</td>\n",
       "      <td>NaN</td>\n",
       "      <td>NaN</td>\n",
       "      <td>NaN</td>\n",
       "    </tr>\n",
       "    <tr>\n",
       "      <th>2</th>\n",
       "      <td>2842220</td>\n",
       "      <td>X14 ORN JINGLE BELL SILVER   $</td>\n",
       "      <td>0</td>\n",
       "      <td>1506</td>\n",
       "      <td>0.04</td>\n",
       "      <td>2.00</td>\n",
       "      <td>2.00</td>\n",
       "      <td>2.00</td>\n",
       "      <td>FUT</td>\n",
       "      <td>NaN</td>\n",
       "      <td>Silver</td>\n",
       "      <td>HOLIDAY</td>\n",
       "      <td>D300 - ORNAMENTS</td>\n",
       "      <td>METAL</td>\n",
       "      <td>China</td>\n",
       "      <td>1</td>\n",
       "      <td>NaN</td>\n",
       "      <td>NaN</td>\n",
       "      <td>NaN</td>\n",
       "    </tr>\n",
       "    <tr>\n",
       "      <th>3</th>\n",
       "      <td>3888295</td>\n",
       "      <td>REUSABLE BAGS, PROMO V.#2</td>\n",
       "      <td>0</td>\n",
       "      <td>9801</td>\n",
       "      <td>0.15</td>\n",
       "      <td>20.00</td>\n",
       "      <td>6.00</td>\n",
       "      <td>16.00</td>\n",
       "      <td>FUT</td>\n",
       "      <td>NaN</td>\n",
       "      <td>Multi-colored</td>\n",
       "      <td>NaN</td>\n",
       "      <td>NaN</td>\n",
       "      <td>NaN</td>\n",
       "      <td>Viet Nam</td>\n",
       "      <td>1</td>\n",
       "      <td>NaN</td>\n",
       "      <td>NaN</td>\n",
       "      <td>NaN</td>\n",
       "    </tr>\n",
       "    <tr>\n",
       "      <th>4</th>\n",
       "      <td>3186445</td>\n",
       "      <td>DISPLAY CRTN AURA MINERAL</td>\n",
       "      <td>0</td>\n",
       "      <td>9801</td>\n",
       "      <td>0.59</td>\n",
       "      <td>9.50</td>\n",
       "      <td>0.01</td>\n",
       "      <td>11.00</td>\n",
       "      <td>FUT</td>\n",
       "      <td>NaN</td>\n",
       "      <td>Gray - Dove</td>\n",
       "      <td>NaN</td>\n",
       "      <td>NaN</td>\n",
       "      <td>NaN</td>\n",
       "      <td>China</td>\n",
       "      <td>1</td>\n",
       "      <td>NaN</td>\n",
       "      <td>NaN</td>\n",
       "      <td>NaN</td>\n",
       "    </tr>\n",
       "  </tbody>\n",
       "</table>\n",
       "</div>"
      ],
      "text/plain": [
       "       SKU                     ProductName  CountOfBigTransactions  ClassID  \\\n",
       "0  2790275            RPL HDW COLETTE LEGS                       0     9801   \n",
       "1  3191777                  google express                       0     7590   \n",
       "2  2842220  X14 ORN JINGLE BELL SILVER   $                       0     1506   \n",
       "3  3888295       REUSABLE BAGS, PROMO V.#2                       0     9801   \n",
       "4  3186445       DISPLAY CRTN AURA MINERAL                       0     9801   \n",
       "\n",
       "   Weight  Width  Depth  Height LifeCycleName FinishName             Color  \\\n",
       "0    1.10   3.35   3.35   11.93           FUT        NaN  Brown - Espresso   \n",
       "1    1.00   1.00   1.00    1.00           FUT        NaN              Blue   \n",
       "2    0.04   2.00   2.00    2.00           FUT        NaN            Silver   \n",
       "3    0.15  20.00   6.00   16.00           FUT        NaN     Multi-colored   \n",
       "4    0.59   9.50   0.01   11.00           FUT        NaN       Gray - Dove   \n",
       "\n",
       "    Season     SizeOrUtility Material CountryOfOrigin  Quartile display-name  \\\n",
       "0      NaN               NaN      NaN           China         1          NaN   \n",
       "1      NaN               NaN      NaN   United States         1          NaN   \n",
       "2  HOLIDAY  D300 - ORNAMENTS    METAL           China         1          NaN   \n",
       "3      NaN               NaN      NaN        Viet Nam         1          NaN   \n",
       "4      NaN               NaN      NaN           China         1          NaN   \n",
       "\n",
       "  online-flag long-description  \n",
       "0         NaN              NaN  \n",
       "1         NaN              NaN  \n",
       "2         NaN              NaN  \n",
       "3         NaN              NaN  \n",
       "4         NaN              NaN  "
      ]
     },
     "execution_count": 8,
     "metadata": {},
     "output_type": "execute_result"
    }
   ],
   "source": [
    "df2.head(5)"
   ]
  },
  {
   "cell_type": "code",
   "execution_count": 4,
   "metadata": {},
   "outputs": [
    {
     "data": {
      "text/plain": [
       "(202406, 12)"
      ]
     },
     "execution_count": 4,
     "metadata": {},
     "output_type": "execute_result"
    }
   ],
   "source": [
    "df1.shape"
   ]
  },
  {
   "cell_type": "code",
   "execution_count": 5,
   "metadata": {},
   "outputs": [
    {
     "data": {
      "text/html": [
       "<div>\n",
       "<style scoped>\n",
       "    .dataframe tbody tr th:only-of-type {\n",
       "        vertical-align: middle;\n",
       "    }\n",
       "\n",
       "    .dataframe tbody tr th {\n",
       "        vertical-align: top;\n",
       "    }\n",
       "\n",
       "    .dataframe thead th {\n",
       "        text-align: right;\n",
       "    }\n",
       "</style>\n",
       "<table border=\"1\" class=\"dataframe\">\n",
       "  <thead>\n",
       "    <tr style=\"text-align: right;\">\n",
       "      <th></th>\n",
       "      <th>id</th>\n",
       "      <th>name</th>\n",
       "      <th>sku</th>\n",
       "      <th>title</th>\n",
       "      <th>questioncount</th>\n",
       "      <th>answercount</th>\n",
       "      <th>reviewcount</th>\n",
       "      <th>commentcount</th>\n",
       "      <th>averagerating</th>\n",
       "      <th>text</th>\n",
       "      <th>tags</th>\n",
       "      <th>dateTime</th>\n",
       "    </tr>\n",
       "  </thead>\n",
       "  <tbody>\n",
       "    <tr>\n",
       "      <th>0</th>\n",
       "      <td>2.0</td>\n",
       "      <td>Antonio Russo</td>\n",
       "      <td>3127014</td>\n",
       "      <td>Love my mermaid pillow</td>\n",
       "      <td>0</td>\n",
       "      <td>0</td>\n",
       "      <td>21</td>\n",
       "      <td>0</td>\n",
       "      <td>0.0</td>\n",
       "      <td>Another great Pier 1 quality product.</td>\n",
       "      <td>NaN</td>\n",
       "      <td>2017-08-02T14:39:50</td>\n",
       "    </tr>\n",
       "    <tr>\n",
       "      <th>1</th>\n",
       "      <td>4.0</td>\n",
       "      <td>Audrey Audrey</td>\n",
       "      <td>3019613</td>\n",
       "      <td>NaN</td>\n",
       "      <td>0</td>\n",
       "      <td>0</td>\n",
       "      <td>21</td>\n",
       "      <td>0</td>\n",
       "      <td>0.0</td>\n",
       "      <td>The coloring on this is so pretty! I love the ...</td>\n",
       "      <td>NaN</td>\n",
       "      <td>2017-08-02T14:47:34</td>\n",
       "    </tr>\n",
       "    <tr>\n",
       "      <th>2</th>\n",
       "      <td>5.0</td>\n",
       "      <td>Audrey Audrey</td>\n",
       "      <td>3205114</td>\n",
       "      <td>NaN</td>\n",
       "      <td>0</td>\n",
       "      <td>0</td>\n",
       "      <td>4</td>\n",
       "      <td>0</td>\n",
       "      <td>0.0</td>\n",
       "      <td>Very comfortable and easy to take care of.</td>\n",
       "      <td>NaN</td>\n",
       "      <td>2017-08-02T14:48:01</td>\n",
       "    </tr>\n",
       "    <tr>\n",
       "      <th>3</th>\n",
       "      <td>6.0</td>\n",
       "      <td>Audrey Audrey</td>\n",
       "      <td>3084816</td>\n",
       "      <td>NaN</td>\n",
       "      <td>0</td>\n",
       "      <td>0</td>\n",
       "      <td>1</td>\n",
       "      <td>0</td>\n",
       "      <td>4.0</td>\n",
       "      <td>Pretty design, great quality. I love it.</td>\n",
       "      <td>NaN</td>\n",
       "      <td>2017-08-02T14:49:03</td>\n",
       "    </tr>\n",
       "    <tr>\n",
       "      <th>4</th>\n",
       "      <td>7.0</td>\n",
       "      <td>monica maltby</td>\n",
       "      <td>2916178</td>\n",
       "      <td>Lovely lamp!</td>\n",
       "      <td>0</td>\n",
       "      <td>0</td>\n",
       "      <td>1</td>\n",
       "      <td>0</td>\n",
       "      <td>5.0</td>\n",
       "      <td>I love this lamp - it matches my Living room p...</td>\n",
       "      <td>NaN</td>\n",
       "      <td>2017-08-02T21:12:54</td>\n",
       "    </tr>\n",
       "  </tbody>\n",
       "</table>\n",
       "</div>"
      ],
      "text/plain": [
       "    id           name      sku                   title  questioncount  \\\n",
       "0  2.0  Antonio Russo  3127014  Love my mermaid pillow              0   \n",
       "1  4.0  Audrey Audrey  3019613                     NaN              0   \n",
       "2  5.0  Audrey Audrey  3205114                     NaN              0   \n",
       "3  6.0  Audrey Audrey  3084816                     NaN              0   \n",
       "4  7.0  monica maltby  2916178            Lovely lamp!              0   \n",
       "\n",
       "   answercount  reviewcount  commentcount  averagerating  \\\n",
       "0            0           21             0            0.0   \n",
       "1            0           21             0            0.0   \n",
       "2            0            4             0            0.0   \n",
       "3            0            1             0            4.0   \n",
       "4            0            1             0            5.0   \n",
       "\n",
       "                                                text tags             dateTime  \n",
       "0              Another great Pier 1 quality product.  NaN  2017-08-02T14:39:50  \n",
       "1  The coloring on this is so pretty! I love the ...  NaN  2017-08-02T14:47:34  \n",
       "2         Very comfortable and easy to take care of.  NaN  2017-08-02T14:48:01  \n",
       "3           Pretty design, great quality. I love it.  NaN  2017-08-02T14:49:03  \n",
       "4  I love this lamp - it matches my Living room p...  NaN  2017-08-02T21:12:54  "
      ]
     },
     "execution_count": 5,
     "metadata": {},
     "output_type": "execute_result"
    }
   ],
   "source": [
    "df1.head(5)"
   ]
  },
  {
   "cell_type": "code",
   "execution_count": 86,
   "metadata": {},
   "outputs": [
    {
     "data": {
      "text/plain": [
       "sku\n",
       "1872426     0.044444\n",
       "2043881     0.500000\n",
       "2064021     0.000000\n",
       "2118072     0.000000\n",
       "2121139     0.479167\n",
       "2121141     0.350000\n",
       "2121167     0.250505\n",
       "2121195     0.000000\n",
       "2132994     0.166667\n",
       "2140332     0.227778\n",
       "2156768     0.333705\n",
       "2197699     0.570040\n",
       "2221815     0.237857\n",
       "2222469     0.250000\n",
       "2222612     0.000000\n",
       "2224533     0.112500\n",
       "2224546     0.000000\n",
       "2230305     0.000000\n",
       "2248874     0.245833\n",
       "2252898     0.700000\n",
       "2257624     0.293750\n",
       "2261334     1.000000\n",
       "2262473     0.000000\n",
       "2262718     0.062500\n",
       "2270125     0.000000\n",
       "2274409     0.250000\n",
       "2279505     0.214286\n",
       "2279561     0.000000\n",
       "2279574     0.000000\n",
       "2282578     0.587500\n",
       "              ...   \n",
       "PS78452     0.491667\n",
       "PS78457     0.360606\n",
       "PS78461     0.350000\n",
       "PS78609     0.071212\n",
       "PS78634     0.346764\n",
       "PS78647     0.737500\n",
       "PS78659     0.591071\n",
       "PS78660     0.312500\n",
       "PS79139     0.422500\n",
       "PS79168     0.135490\n",
       "PS79187     0.482143\n",
       "PS79419    -0.025446\n",
       "PS80706     0.120758\n",
       "PS82058     0.500000\n",
       "PS82060     0.200000\n",
       "PV530-21    0.100000\n",
       "PV530-22    0.503333\n",
       "PV530-28    0.018182\n",
       "PV530-29    0.156000\n",
       "PV530-33    0.162500\n",
       "PV530-36   -0.001989\n",
       "PV530-45   -0.187500\n",
       "PV530-47   -0.098264\n",
       "PV530-48    0.125669\n",
       "PV530-49    0.052812\n",
       "PV530-50    0.212307\n",
       "PV530-51    0.089775\n",
       "PV530-52   -0.167027\n",
       "PV530-53    0.337500\n",
       "PV530-74    0.300397\n",
       "Name: Sentiment, Length: 34206, dtype: float64"
      ]
     },
     "execution_count": 86,
     "metadata": {},
     "output_type": "execute_result"
    }
   ],
   "source": [
    "df1.groupby('sku')['Sentiment'].mean()"
   ]
  },
  {
   "cell_type": "code",
   "execution_count": 74,
   "metadata": {},
   "outputs": [
    {
     "data": {
      "text/plain": [
       "(37377, 19)"
      ]
     },
     "execution_count": 74,
     "metadata": {},
     "output_type": "execute_result"
    }
   ],
   "source": [
    "df2.shape"
   ]
  },
  {
   "cell_type": "code",
   "execution_count": 84,
   "metadata": {},
   "outputs": [
    {
     "data": {
      "text/plain": [
       "37123"
      ]
     },
     "execution_count": 84,
     "metadata": {},
     "output_type": "execute_result"
    }
   ],
   "source": [
    "len(df2['SKU'].unique())"
   ]
  },
  {
   "cell_type": "code",
   "execution_count": 16,
   "metadata": {},
   "outputs": [
    {
     "data": {
      "text/plain": [
       "id                   1\n",
       "name                 0\n",
       "sku                  0\n",
       "title            51153\n",
       "questioncount        0\n",
       "answercount          0\n",
       "reviewcount          0\n",
       "commentcount         0\n",
       "averagerating        0\n",
       "text                 3\n",
       "tags             75735\n",
       "dateTime             0\n",
       "dtype: int64"
      ]
     },
     "execution_count": 16,
     "metadata": {},
     "output_type": "execute_result"
    }
   ],
   "source": [
    "df1.isna().sum()"
   ]
  },
  {
   "cell_type": "code",
   "execution_count": 55,
   "metadata": {},
   "outputs": [],
   "source": [
    "df1['text'].fillna(' ',inplace=True)"
   ]
  },
  {
   "cell_type": "code",
   "execution_count": 58,
   "metadata": {},
   "outputs": [],
   "source": [
    "x=[]\n",
    "\n",
    "for sentence in df1['text']:\n",
    "    blob = TextBlob(sentence)\n",
    "    if blob.sentiment.polarity==' ':\n",
    "        x.append(0)\n",
    "    else:\n",
    "        x.append(blob.sentiment.polarity)"
   ]
  },
  {
   "cell_type": "code",
   "execution_count": 60,
   "metadata": {},
   "outputs": [],
   "source": [
    "df1['Sentiment']=x"
   ]
  },
  {
   "cell_type": "code",
   "execution_count": 61,
   "metadata": {},
   "outputs": [
    {
     "name": "stderr",
     "output_type": "stream",
     "text": [
      "C:\\Users\\priya\\Anaconda3\\lib\\site-packages\\scipy\\stats\\stats.py:1713: FutureWarning: Using a non-tuple sequence for multidimensional indexing is deprecated; use `arr[tuple(seq)]` instead of `arr[seq]`. In the future this will be interpreted as an array index, `arr[np.array(seq)]`, which will result either in an error or a different result.\n",
      "  return np.add.reduce(sorted[indexer] * weights, axis=axis) / sumval\n"
     ]
    },
    {
     "data": {
      "text/plain": [
       "<matplotlib.axes._subplots.AxesSubplot at 0x186a5b24588>"
      ]
     },
     "execution_count": 61,
     "metadata": {},
     "output_type": "execute_result"
    },
    {
     "data": {
      "image/png": "[encoded data removed]",
      "text/plain": [
       "<Figure size 432x288 with 1 Axes>"
      ]
     },
     "metadata": {
      "needs_background": "light"
     },
     "output_type": "display_data"
    }
   ],
   "source": [
    "sns.distplot(df1['Sentiment'])"
   ]
  },
  {
   "cell_type": "code",
   "execution_count": 66,
   "metadata": {},
   "outputs": [
    {
     "name": "stdout",
     "output_type": "stream",
     "text": [
      "                                                 text  Sentiment\n",
      "1   The coloring on this is so pretty! I love the ...   0.406250\n",
      "2          Very comfortable and easy to take care of.   0.476667\n",
      "3            Pretty design, great quality. I love it.   0.516667\n",
      "4   I love this lamp - it matches my Living room p...   0.500000\n",
      "5                    Love the product and the service   0.500000\n",
      "6   I love this scent.  Every time I smell it, it ...   0.258333\n",
      "7   Perfect for snacks or veggies and looks beautiful   0.925000\n",
      "8   I love when it's all lit up at night with my c...   0.500000\n",
      "9   Beautiful lanterns ... Look expensive and perf...   0.450000\n",
      "10  I so love this chair! The velvet fabric is ver...   0.572500\n",
      "11        Soft and beautiful throw. Washes very well.   0.383333\n",
      "12  I love the Moscow Mule Mugs! I definitely reco...   0.145833\n",
      "13         Looks perfect with the chairs on my porch.   1.000000\n",
      "14  Love the mobile. Sometimes hard to find the of...   0.293056\n",
      "15                     Love them. Wish I bought more    0.500000\n",
      "16  I love the smell. Purchasing the oils next for...   0.250000\n",
      "17  Warmer works properly and its priced reasonable.    0.100000\n",
      "18                    Scent its not like the candle.    0.000000\n",
      "19             Very pretty and easy to take care of.    0.379167\n",
      "20              Did not look like i though it would.    0.000000\n",
      "21  Nice looking, however it would be better if yo...   0.550000\n",
      "22  Charge does not last very long. Very pretty wh...   0.086667\n",
      "23                   Very nice and easy to take care.   0.606667\n",
      "24                         Scent is not like candle.    0.000000\n"
     ]
    }
   ],
   "source": [
    "print(df1[['text','Sentiment']][1:25])"
   ]
  },
  {
   "cell_type": "code",
   "execution_count": 67,
   "metadata": {},
   "outputs": [],
   "source": [
    "df1.to_csv('withsentiment.csv')"
   ]
  },
  {
   "cell_type": "code",
   "execution_count": 64,
   "metadata": {},
   "outputs": [],
   "source": [
    "x=[]\n",
    "for i in ['Worst','Scent is not like candle','I love the multiple types of fiber arts']:\n",
    "    blob = TextBlob(i)\n",
    "    x.append(blob.sentiment.polarity)"
   ]
  },
  {
   "cell_type": "code",
   "execution_count": 65,
   "metadata": {},
   "outputs": [
    {
     "name": "stdout",
     "output_type": "stream",
     "text": [
      "[-1.0, 0.0, 0.25]\n"
     ]
    }
   ],
   "source": [
    "print (x)"
   ]
  },
  {
   "cell_type": "code",
   "execution_count": 6,
   "metadata": {},
   "outputs": [
    {
     "data": {
      "text/plain": [
       "3"
      ]
     },
     "execution_count": 6,
     "metadata": {},
     "output_type": "execute_result"
    }
   ],
   "source": [
    "df1['text'].isna().sum()"
   ]
  },
  {
   "cell_type": "code",
   "execution_count": null,
   "metadata": {},
   "outputs": [],
   "source": []
  }
 ],
 "metadata": {
  "kernelspec": {
   "display_name": "Python 3",
   "language": "python",
   "name": "python3"
  },
  "language_info": {
   "codemirror_mode": {
    "name": "ipython",
    "version": 3
   },
   "file_extension": ".py",
   "mimetype": "text/x-python",
   "name": "python",
   "nbconvert_exporter": "python",
   "pygments_lexer": "ipython3",
   "version": "3.6.7"
  }
 },
 "nbformat": 4,
 "nbformat_minor": 2
}
