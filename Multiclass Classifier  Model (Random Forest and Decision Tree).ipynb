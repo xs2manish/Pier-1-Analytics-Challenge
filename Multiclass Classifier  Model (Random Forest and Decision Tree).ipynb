{
 "cells": [
  {
   "cell_type": "code",
   "execution_count": 1,
   "metadata": {},
   "outputs": [],
   "source": [
    "import pandas as pd\n",
    "import numpy as np\n",
    "import seaborn as sns"
   ]
  },
  {
   "cell_type": "code",
   "execution_count": 2,
   "metadata": {},
   "outputs": [],
   "source": [
    "df1=pd.read_csv(r'D:/Datasets/UTA2019/Final Cleaned Data.csv')"
   ]
  },
  {
   "cell_type": "code",
   "execution_count": 3,
   "metadata": {},
   "outputs": [],
   "source": [
    "#df1['Utility'].head(10)"
   ]
  },
  {
   "cell_type": "code",
   "execution_count": 4,
   "metadata": {},
   "outputs": [
    {
     "name": "stdout",
     "output_type": "stream",
     "text": [
      "<class 'pandas.core.frame.DataFrame'>\n",
      "RangeIndex: 192901 entries, 0 to 192900\n",
      "Data columns (total 29 columns):\n",
      "Class ID                     192900 non-null float64\n",
      "Color                        187606 non-null object\n",
      "Count Of Big Transactions    192900 non-null float64\n",
      "Country Of Origin            192900 non-null object\n",
      "Depth                        192893 non-null float64\n",
      "Finish Name                  11404 non-null object\n",
      "Height                       192900 non-null float64\n",
      "Life Cycle Name              192900 non-null object\n",
      "Material                     85769 non-null object\n",
      "Product Name                 192900 non-null object\n",
      "Quartile                     192900 non-null float64\n",
      "SKU                          192900 non-null float64\n",
      "Season                       74062 non-null object\n",
      "Sentiment                    192900 non-null float64\n",
      "Category                     182127 non-null object\n",
      "Utility                      182127 non-null object\n",
      "Weight                       192900 non-null float64\n",
      "Width                        192900 non-null float64\n",
      "Answercount                  192900 non-null float64\n",
      "Averagerating                155773 non-null float64\n",
      "Commentcount                 192900 non-null float64\n",
      "Display-Name                 88939 non-null object\n",
      "Long-Description             65279 non-null object\n",
      "Online-Flag                  192901 non-null bool\n",
      "Questioncount                192900 non-null float64\n",
      "Reviewcount                  192900 non-null float64\n",
      "Tags                         122298 non-null object\n",
      "Text                         192894 non-null object\n",
      "Title                        143113 non-null object\n",
      "dtypes: bool(1), float64(14), object(14)\n",
      "memory usage: 41.4+ MB\n"
     ]
    }
   ],
   "source": [
    "df1.info()"
   ]
  },
  {
   "cell_type": "code",
   "execution_count": 5,
   "metadata": {},
   "outputs": [],
   "source": [
    "#df1.head(5)"
   ]
  },
  {
   "cell_type": "code",
   "execution_count": 6,
   "metadata": {},
   "outputs": [
    {
     "data": {
      "text/plain": [
       "Index(['Class ID', 'Color', 'Count Of Big Transactions', 'Country Of Origin',\n",
       "       'Depth', 'Finish Name', 'Height', 'Life Cycle Name', 'Material',\n",
       "       'Product Name', 'Quartile', 'SKU', 'Season', 'Sentiment', 'Category',\n",
       "       'Utility', 'Weight', 'Width', 'Answercount', 'Averagerating',\n",
       "       'Commentcount', 'Display-Name', 'Long-Description', 'Online-Flag',\n",
       "       'Questioncount', 'Reviewcount', 'Tags', 'Text', 'Title'],\n",
       "      dtype='object')"
      ]
     },
     "execution_count": 6,
     "metadata": {},
     "output_type": "execute_result"
    }
   ],
   "source": [
    "df1.columns"
   ]
  },
  {
   "cell_type": "code",
   "execution_count": 7,
   "metadata": {},
   "outputs": [
    {
     "data": {
      "text/plain": [
       "Class ID                          1\n",
       "Color                          5295\n",
       "Count Of Big Transactions         1\n",
       "Country Of Origin                 1\n",
       "Depth                             8\n",
       "Finish Name                  181497\n",
       "Height                            1\n",
       "Life Cycle Name                   1\n",
       "Material                     107132\n",
       "Product Name                      1\n",
       "Quartile                          1\n",
       "SKU                               1\n",
       "Season                       118839\n",
       "Sentiment                         1\n",
       "Category                      10774\n",
       "Utility                       10774\n",
       "Weight                            1\n",
       "Width                             1\n",
       "Answercount                       1\n",
       "Averagerating                 37128\n",
       "Commentcount                      1\n",
       "Display-Name                 103962\n",
       "Long-Description             127622\n",
       "Online-Flag                       0\n",
       "Questioncount                     1\n",
       "Reviewcount                       1\n",
       "Tags                          70603\n",
       "Text                              7\n",
       "Title                         49788\n",
       "dtype: int64"
      ]
     },
     "execution_count": 7,
     "metadata": {},
     "output_type": "execute_result"
    }
   ],
   "source": [
    "df1.isna().sum()"
   ]
  },
  {
   "cell_type": "code",
   "execution_count": 8,
   "metadata": {},
   "outputs": [],
   "source": [
    "df1.drop(['Finish Name','Material','Season','Display-Name','Long-Description','Tags','Utility','Title'],axis=1,inplace=True)"
   ]
  },
  {
   "cell_type": "code",
   "execution_count": 9,
   "metadata": {},
   "outputs": [],
   "source": [
    "#df1.head(5)"
   ]
  },
  {
   "cell_type": "code",
   "execution_count": 10,
   "metadata": {},
   "outputs": [
    {
     "data": {
      "text/plain": [
       "Class ID                         1\n",
       "Color                         5295\n",
       "Count Of Big Transactions        1\n",
       "Country Of Origin                1\n",
       "Depth                            8\n",
       "Height                           1\n",
       "Life Cycle Name                  1\n",
       "Product Name                     1\n",
       "Quartile                         1\n",
       "SKU                              1\n",
       "Sentiment                        1\n",
       "Category                     10774\n",
       "Weight                           1\n",
       "Width                            1\n",
       "Answercount                      1\n",
       "Averagerating                37128\n",
       "Commentcount                     1\n",
       "Online-Flag                      0\n",
       "Questioncount                    1\n",
       "Reviewcount                      1\n",
       "Text                             7\n",
       "dtype: int64"
      ]
     },
     "execution_count": 10,
     "metadata": {},
     "output_type": "execute_result"
    }
   ],
   "source": [
    "df1.isna().sum()"
   ]
  },
  {
   "cell_type": "code",
   "execution_count": 11,
   "metadata": {},
   "outputs": [
    {
     "data": {
      "text/plain": [
       "Quartile\n",
       "1.0     10134\n",
       "2.0     18934\n",
       "3.0     32865\n",
       "4.0    130967\n",
       "Name: Quartile, dtype: int64"
      ]
     },
     "execution_count": 11,
     "metadata": {},
     "output_type": "execute_result"
    }
   ],
   "source": [
    "df1.groupby('Quartile')['Quartile'].count()"
   ]
  },
  {
   "cell_type": "code",
   "execution_count": 12,
   "metadata": {},
   "outputs": [
    {
     "data": {
      "text/plain": [
       "Quartile  Averagerating\n",
       "1.0       0.0               6930\n",
       "          5.0               2171\n",
       "          4.0                218\n",
       "          3.0                 89\n",
       "          1.0                 39\n",
       "          2.0                 35\n",
       "2.0       0.0              12018\n",
       "          5.0               4573\n",
       "          4.0                447\n",
       "          3.0                309\n",
       "          1.0                141\n",
       "          2.0                118\n",
       "3.0       0.0              17371\n",
       "          5.0               9371\n",
       "          4.0                855\n",
       "          3.0                371\n",
       "          1.0                138\n",
       "          2.0                127\n",
       "4.0       0.0              88796\n",
       "          5.0              10557\n",
       "          4.0                807\n",
       "          3.0                176\n",
       "          2.0                 68\n",
       "          1.0                 48\n",
       "Name: Averagerating, dtype: int64"
      ]
     },
     "execution_count": 12,
     "metadata": {},
     "output_type": "execute_result"
    }
   ],
   "source": [
    "df1.groupby('Quartile')['Averagerating'].value_counts()"
   ]
  },
  {
   "cell_type": "code",
   "execution_count": 13,
   "metadata": {},
   "outputs": [],
   "source": [
    "df1['Color']=df1['Color'].fillna('Unknown')\n",
    "df1['Category'] = df1['Category'].fillna('Unknown')\n",
    "#df1['Averagerating']=df1['Averagerating'].fillna()\n",
    "#df1['Quartile'] = df1['Quartile'].dropna()\n",
    "df1['Averagerating'] = df1['Averagerating'].fillna(df1['Quartile'])"
   ]
  },
  {
   "cell_type": "code",
   "execution_count": 14,
   "metadata": {},
   "outputs": [
    {
     "data": {
      "text/plain": [
       "Class ID                     1\n",
       "Color                        0\n",
       "Count Of Big Transactions    1\n",
       "Country Of Origin            1\n",
       "Depth                        8\n",
       "Height                       1\n",
       "Life Cycle Name              1\n",
       "Product Name                 1\n",
       "Quartile                     1\n",
       "SKU                          1\n",
       "Sentiment                    1\n",
       "Category                     0\n",
       "Weight                       1\n",
       "Width                        1\n",
       "Answercount                  1\n",
       "Averagerating                1\n",
       "Commentcount                 1\n",
       "Online-Flag                  0\n",
       "Questioncount                1\n",
       "Reviewcount                  1\n",
       "Text                         7\n",
       "dtype: int64"
      ]
     },
     "execution_count": 14,
     "metadata": {},
     "output_type": "execute_result"
    }
   ],
   "source": [
    "df1.isna().sum()"
   ]
  },
  {
   "cell_type": "code",
   "execution_count": 15,
   "metadata": {},
   "outputs": [],
   "source": [
    "df1.dropna(axis=0,inplace = True)"
   ]
  },
  {
   "cell_type": "code",
   "execution_count": 16,
   "metadata": {},
   "outputs": [
    {
     "data": {
      "text/plain": [
       "0.0    125106\n",
       "4.0     32840\n",
       "5.0     26670\n",
       "3.0      5577\n",
       "2.0      1676\n",
       "1.0      1018\n",
       "Name: Averagerating, dtype: int64"
      ]
     },
     "execution_count": 16,
     "metadata": {},
     "output_type": "execute_result"
    }
   ],
   "source": [
    "df1['Averagerating'].value_counts()"
   ]
  },
  {
   "cell_type": "code",
   "execution_count": 17,
   "metadata": {},
   "outputs": [
    {
     "data": {
      "text/plain": [
       "<matplotlib.axes._subplots.AxesSubplot at 0x1d35ac76198>"
      ]
     },
     "execution_count": 17,
     "metadata": {},
     "output_type": "execute_result"
    },
    {
     "data": {
      "image/png": "[encoded data removed]",
      "text/plain": [
       "<Figure size 432x288 with 1 Axes>"
      ]
     },
     "metadata": {
      "needs_background": "light"
     },
     "output_type": "display_data"
    }
   ],
   "source": [
    "sns.countplot(df1.groupby('Quartile')['SKU'].count())"
   ]
  },
  {
   "cell_type": "code",
   "execution_count": 18,
   "metadata": {},
   "outputs": [],
   "source": [
    "X=df1.drop('Quartile',axis=1)\n",
    "y=df1['Quartile']\n"
   ]
  },
  {
   "cell_type": "code",
   "execution_count": 19,
   "metadata": {},
   "outputs": [
    {
     "name": "stdout",
     "output_type": "stream",
     "text": [
      "<class 'pandas.core.frame.DataFrame'>\n",
      "Int64Index: 192887 entries, 0 to 192899\n",
      "Data columns (total 20 columns):\n",
      "Class ID                     192887 non-null float64\n",
      "Color                        192887 non-null object\n",
      "Count Of Big Transactions    192887 non-null float64\n",
      "Country Of Origin            192887 non-null object\n",
      "Depth                        192887 non-null float64\n",
      "Height                       192887 non-null float64\n",
      "Life Cycle Name              192887 non-null object\n",
      "Product Name                 192887 non-null object\n",
      "SKU                          192887 non-null float64\n",
      "Sentiment                    192887 non-null float64\n",
      "Category                     192887 non-null object\n",
      "Weight                       192887 non-null float64\n",
      "Width                        192887 non-null float64\n",
      "Answercount                  192887 non-null float64\n",
      "Averagerating                192887 non-null float64\n",
      "Commentcount                 192887 non-null float64\n",
      "Online-Flag                  192887 non-null bool\n",
      "Questioncount                192887 non-null float64\n",
      "Reviewcount                  192887 non-null float64\n",
      "Text                         192887 non-null object\n",
      "dtypes: bool(1), float64(13), object(6)\n",
      "memory usage: 29.6+ MB\n"
     ]
    }
   ],
   "source": [
    "X.info()"
   ]
  },
  {
   "cell_type": "code",
   "execution_count": 20,
   "metadata": {},
   "outputs": [
    {
     "data": {
      "text/plain": [
       "Index(['Class ID', 'Color', 'Count Of Big Transactions', 'Country Of Origin',\n",
       "       'Depth', 'Height', 'Life Cycle Name', 'Product Name', 'SKU',\n",
       "       'Sentiment', 'Category', 'Weight', 'Width', 'Answercount',\n",
       "       'Averagerating', 'Commentcount', 'Online-Flag', 'Questioncount',\n",
       "       'Reviewcount', 'Text'],\n",
       "      dtype='object')"
      ]
     },
     "execution_count": 20,
     "metadata": {},
     "output_type": "execute_result"
    }
   ],
   "source": [
    "X.columns"
   ]
  },
  {
   "cell_type": "code",
   "execution_count": 21,
   "metadata": {},
   "outputs": [],
   "source": [
    "from sklearn.preprocessing import LabelEncoder\n",
    "le = LabelEncoder()\n",
    "\n",
    "for i in ['Color', 'Country Of Origin', 'Life Cycle Name','Product Name','Category', 'Online-Flag', 'Text']:\n",
    "    X[i]=le.fit_transform(X[i])\n",
    " "
   ]
  },
  {
   "cell_type": "code",
   "execution_count": 22,
   "metadata": {},
   "outputs": [],
   "source": [
    "from sklearn.model_selection import train_test_split\n",
    "X_train, X_test, y_train, y_test = train_test_split(X, y, test_size=0.33, random_state=42)"
   ]
  },
  {
   "cell_type": "code",
   "execution_count": 23,
   "metadata": {},
   "outputs": [
    {
     "name": "stdout",
     "output_type": "stream",
     "text": [
      "<class 'pandas.core.frame.DataFrame'>\n",
      "Int64Index: 192887 entries, 0 to 192899\n",
      "Data columns (total 20 columns):\n",
      "Class ID                     192887 non-null float64\n",
      "Color                        192887 non-null int32\n",
      "Count Of Big Transactions    192887 non-null float64\n",
      "Country Of Origin            192887 non-null int32\n",
      "Depth                        192887 non-null float64\n",
      "Height                       192887 non-null float64\n",
      "Life Cycle Name              192887 non-null int32\n",
      "Product Name                 192887 non-null int32\n",
      "SKU                          192887 non-null float64\n",
      "Sentiment                    192887 non-null float64\n",
      "Category                     192887 non-null int32\n",
      "Weight                       192887 non-null float64\n",
      "Width                        192887 non-null float64\n",
      "Answercount                  192887 non-null float64\n",
      "Averagerating                192887 non-null float64\n",
      "Commentcount                 192887 non-null float64\n",
      "Online-Flag                  192887 non-null int64\n",
      "Questioncount                192887 non-null float64\n",
      "Reviewcount                  192887 non-null float64\n",
      "Text                         192887 non-null int32\n",
      "dtypes: float64(13), int32(6), int64(1)\n",
      "memory usage: 26.5 MB\n"
     ]
    }
   ],
   "source": [
    "X.info()\n"
   ]
  },
  {
   "cell_type": "code",
   "execution_count": 24,
   "metadata": {},
   "outputs": [
    {
     "name": "stderr",
     "output_type": "stream",
     "text": [
      "C:\\Users\\priya\\Anaconda3\\lib\\site-packages\\sklearn\\ensemble\\forest.py:246: FutureWarning: The default value of n_estimators will change from 10 in version 0.20 to 100 in 0.22.\n",
      "  \"10 in version 0.20 to 100 in 0.22.\", FutureWarning)\n"
     ]
    },
    {
     "data": {
      "text/plain": [
       "RandomForestClassifier(bootstrap=True, class_weight=None, criterion='gini',\n",
       "            max_depth=None, max_features='auto', max_leaf_nodes=None,\n",
       "            min_impurity_decrease=0.0, min_impurity_split=None,\n",
       "            min_samples_leaf=1, min_samples_split=2,\n",
       "            min_weight_fraction_leaf=0.0, n_estimators=10, n_jobs=None,\n",
       "            oob_score=False, random_state=None, verbose=0,\n",
       "            warm_start=False)"
      ]
     },
     "execution_count": 24,
     "metadata": {},
     "output_type": "execute_result"
    }
   ],
   "source": [
    "from sklearn.ensemble import RandomForestClassifier\n",
    "rtree=RandomForestClassifier()\n",
    "rtree.fit(X_train,y_train)"
   ]
  },
  {
   "cell_type": "code",
   "execution_count": 25,
   "metadata": {},
   "outputs": [
    {
     "data": {
      "text/html": [
       "<div>\n",
       "<style scoped>\n",
       "    .dataframe tbody tr th:only-of-type {\n",
       "        vertical-align: middle;\n",
       "    }\n",
       "\n",
       "    .dataframe tbody tr th {\n",
       "        vertical-align: top;\n",
       "    }\n",
       "\n",
       "    .dataframe thead th {\n",
       "        text-align: right;\n",
       "    }\n",
       "</style>\n",
       "<table border=\"1\" class=\"dataframe\">\n",
       "  <thead>\n",
       "    <tr style=\"text-align: right;\">\n",
       "      <th></th>\n",
       "      <th>importance</th>\n",
       "    </tr>\n",
       "  </thead>\n",
       "  <tbody>\n",
       "    <tr>\n",
       "      <th>Count Of Big Transactions</th>\n",
       "      <td>0.291397</td>\n",
       "    </tr>\n",
       "    <tr>\n",
       "      <th>Reviewcount</th>\n",
       "      <td>0.104494</td>\n",
       "    </tr>\n",
       "    <tr>\n",
       "      <th>SKU</th>\n",
       "      <td>0.091415</td>\n",
       "    </tr>\n",
       "    <tr>\n",
       "      <th>Product Name</th>\n",
       "      <td>0.084711</td>\n",
       "    </tr>\n",
       "    <tr>\n",
       "      <th>Weight</th>\n",
       "      <td>0.077813</td>\n",
       "    </tr>\n",
       "    <tr>\n",
       "      <th>Commentcount</th>\n",
       "      <td>0.071338</td>\n",
       "    </tr>\n",
       "    <tr>\n",
       "      <th>Class ID</th>\n",
       "      <td>0.050165</td>\n",
       "    </tr>\n",
       "    <tr>\n",
       "      <th>Width</th>\n",
       "      <td>0.047565</td>\n",
       "    </tr>\n",
       "    <tr>\n",
       "      <th>Height</th>\n",
       "      <td>0.043113</td>\n",
       "    </tr>\n",
       "    <tr>\n",
       "      <th>Depth</th>\n",
       "      <td>0.038208</td>\n",
       "    </tr>\n",
       "    <tr>\n",
       "      <th>Color</th>\n",
       "      <td>0.023161</td>\n",
       "    </tr>\n",
       "    <tr>\n",
       "      <th>Averagerating</th>\n",
       "      <td>0.017307</td>\n",
       "    </tr>\n",
       "    <tr>\n",
       "      <th>Category</th>\n",
       "      <td>0.014648</td>\n",
       "    </tr>\n",
       "    <tr>\n",
       "      <th>Online-Flag</th>\n",
       "      <td>0.013112</td>\n",
       "    </tr>\n",
       "    <tr>\n",
       "      <th>Country Of Origin</th>\n",
       "      <td>0.012103</td>\n",
       "    </tr>\n",
       "    <tr>\n",
       "      <th>Text</th>\n",
       "      <td>0.010175</td>\n",
       "    </tr>\n",
       "    <tr>\n",
       "      <th>Sentiment</th>\n",
       "      <td>0.009249</td>\n",
       "    </tr>\n",
       "    <tr>\n",
       "      <th>Life Cycle Name</th>\n",
       "      <td>0.000028</td>\n",
       "    </tr>\n",
       "    <tr>\n",
       "      <th>Answercount</th>\n",
       "      <td>0.000000</td>\n",
       "    </tr>\n",
       "    <tr>\n",
       "      <th>Questioncount</th>\n",
       "      <td>0.000000</td>\n",
       "    </tr>\n",
       "  </tbody>\n",
       "</table>\n",
       "</div>"
      ],
      "text/plain": [
       "                           importance\n",
       "Count Of Big Transactions    0.291397\n",
       "Reviewcount                  0.104494\n",
       "SKU                          0.091415\n",
       "Product Name                 0.084711\n",
       "Weight                       0.077813\n",
       "Commentcount                 0.071338\n",
       "Class ID                     0.050165\n",
       "Width                        0.047565\n",
       "Height                       0.043113\n",
       "Depth                        0.038208\n",
       "Color                        0.023161\n",
       "Averagerating                0.017307\n",
       "Category                     0.014648\n",
       "Online-Flag                  0.013112\n",
       "Country Of Origin            0.012103\n",
       "Text                         0.010175\n",
       "Sentiment                    0.009249\n",
       "Life Cycle Name              0.000028\n",
       "Answercount                  0.000000\n",
       "Questioncount                0.000000"
      ]
     },
     "execution_count": 25,
     "metadata": {},
     "output_type": "execute_result"
    }
   ],
   "source": [
    "pd.DataFrame(rtree.feature_importances_,index=X_train.columns,columns = ['importance'])\\\n",
    ".sort_values(by='importance',ascending=False)"
   ]
  },
  {
   "cell_type": "code",
   "execution_count": 26,
   "metadata": {},
   "outputs": [],
   "source": [
    "#df1.to_csv('cleaned_data.csv')"
   ]
  },
  {
   "cell_type": "code",
   "execution_count": 55,
   "metadata": {},
   "outputs": [
    {
     "data": {
      "text/plain": [
       "DecisionTreeClassifier(class_weight=None, criterion='gini', max_depth=None,\n",
       "            max_features=None, max_leaf_nodes=12,\n",
       "            min_impurity_decrease=0.0, min_impurity_split=None,\n",
       "            min_samples_leaf=1, min_samples_split=2,\n",
       "            min_weight_fraction_leaf=0.0, presort=False, random_state=None,\n",
       "            splitter='best')"
      ]
     },
     "execution_count": 55,
     "metadata": {},
     "output_type": "execute_result"
    }
   ],
   "source": [
    "from sklearn.tree import DecisionTreeClassifier\n",
    "clf=DecisionTreeClassifier(max_leaf_nodes=12)\n",
    "clf.fit(X_train,y_train)"
   ]
  },
  {
   "cell_type": "code",
   "execution_count": 56,
   "metadata": {},
   "outputs": [
    {
     "data": {
      "text/html": [
       "<div>\n",
       "<style scoped>\n",
       "    .dataframe tbody tr th:only-of-type {\n",
       "        vertical-align: middle;\n",
       "    }\n",
       "\n",
       "    .dataframe tbody tr th {\n",
       "        vertical-align: top;\n",
       "    }\n",
       "\n",
       "    .dataframe thead th {\n",
       "        text-align: right;\n",
       "    }\n",
       "</style>\n",
       "<table border=\"1\" class=\"dataframe\">\n",
       "  <thead>\n",
       "    <tr style=\"text-align: right;\">\n",
       "      <th></th>\n",
       "      <th>importance</th>\n",
       "    </tr>\n",
       "  </thead>\n",
       "  <tbody>\n",
       "    <tr>\n",
       "      <th>Count Of Big Transactions</th>\n",
       "      <td>0.658586</td>\n",
       "    </tr>\n",
       "    <tr>\n",
       "      <th>Weight</th>\n",
       "      <td>0.229362</td>\n",
       "    </tr>\n",
       "    <tr>\n",
       "      <th>Reviewcount</th>\n",
       "      <td>0.071321</td>\n",
       "    </tr>\n",
       "    <tr>\n",
       "      <th>Commentcount</th>\n",
       "      <td>0.040731</td>\n",
       "    </tr>\n",
       "    <tr>\n",
       "      <th>Class ID</th>\n",
       "      <td>0.000000</td>\n",
       "    </tr>\n",
       "    <tr>\n",
       "      <th>Questioncount</th>\n",
       "      <td>0.000000</td>\n",
       "    </tr>\n",
       "    <tr>\n",
       "      <th>Online-Flag</th>\n",
       "      <td>0.000000</td>\n",
       "    </tr>\n",
       "    <tr>\n",
       "      <th>Averagerating</th>\n",
       "      <td>0.000000</td>\n",
       "    </tr>\n",
       "    <tr>\n",
       "      <th>Answercount</th>\n",
       "      <td>0.000000</td>\n",
       "    </tr>\n",
       "    <tr>\n",
       "      <th>Width</th>\n",
       "      <td>0.000000</td>\n",
       "    </tr>\n",
       "    <tr>\n",
       "      <th>Category</th>\n",
       "      <td>0.000000</td>\n",
       "    </tr>\n",
       "    <tr>\n",
       "      <th>Color</th>\n",
       "      <td>0.000000</td>\n",
       "    </tr>\n",
       "    <tr>\n",
       "      <th>Sentiment</th>\n",
       "      <td>0.000000</td>\n",
       "    </tr>\n",
       "    <tr>\n",
       "      <th>SKU</th>\n",
       "      <td>0.000000</td>\n",
       "    </tr>\n",
       "    <tr>\n",
       "      <th>Product Name</th>\n",
       "      <td>0.000000</td>\n",
       "    </tr>\n",
       "    <tr>\n",
       "      <th>Life Cycle Name</th>\n",
       "      <td>0.000000</td>\n",
       "    </tr>\n",
       "    <tr>\n",
       "      <th>Height</th>\n",
       "      <td>0.000000</td>\n",
       "    </tr>\n",
       "    <tr>\n",
       "      <th>Depth</th>\n",
       "      <td>0.000000</td>\n",
       "    </tr>\n",
       "    <tr>\n",
       "      <th>Country Of Origin</th>\n",
       "      <td>0.000000</td>\n",
       "    </tr>\n",
       "    <tr>\n",
       "      <th>Text</th>\n",
       "      <td>0.000000</td>\n",
       "    </tr>\n",
       "  </tbody>\n",
       "</table>\n",
       "</div>"
      ],
      "text/plain": [
       "                           importance\n",
       "Count Of Big Transactions    0.658586\n",
       "Weight                       0.229362\n",
       "Reviewcount                  0.071321\n",
       "Commentcount                 0.040731\n",
       "Class ID                     0.000000\n",
       "Questioncount                0.000000\n",
       "Online-Flag                  0.000000\n",
       "Averagerating                0.000000\n",
       "Answercount                  0.000000\n",
       "Width                        0.000000\n",
       "Category                     0.000000\n",
       "Color                        0.000000\n",
       "Sentiment                    0.000000\n",
       "SKU                          0.000000\n",
       "Product Name                 0.000000\n",
       "Life Cycle Name              0.000000\n",
       "Height                       0.000000\n",
       "Depth                        0.000000\n",
       "Country Of Origin            0.000000\n",
       "Text                         0.000000"
      ]
     },
     "execution_count": 56,
     "metadata": {},
     "output_type": "execute_result"
    }
   ],
   "source": [
    "pd.DataFrame(clf.feature_importances_,index=X_train.columns,columns = ['importance'])\\\n",
    ".sort_values(by='importance',ascending=False)"
   ]
  },
  {
   "cell_type": "code",
   "execution_count": 57,
   "metadata": {},
   "outputs": [],
   "source": [
    "from sklearn.metrics import confusion_matrix, classification_report, r2_score\n",
    "from sklearn.metrics import f1_score"
   ]
  },
  {
   "cell_type": "code",
   "execution_count": 58,
   "metadata": {},
   "outputs": [],
   "source": [
    "def score(model, test = X_test, y_true = y_test):\n",
    "    \n",
    "    pred = model.predict(test)\n",
    "\n",
    "    print(\"R-Squared Score:\\t\",round(r2_score(y_true,pred),4)*100)\n",
    "    print()\n",
    "    print(classification_report(y_true,pred))"
   ]
  },
  {
   "cell_type": "code",
   "execution_count": 59,
   "metadata": {},
   "outputs": [
    {
     "name": "stdout",
     "output_type": "stream",
     "text": [
      "R-Squared Score:\t 68.73\n",
      "\n",
      "              precision    recall  f1-score   support\n",
      "\n",
      "         1.0       0.82      0.37      0.51      3326\n",
      "         2.0       0.50      0.59      0.54      6346\n",
      "         3.0       0.54      0.56      0.55     10789\n",
      "         4.0       0.93      0.94      0.93     43192\n",
      "\n",
      "   micro avg       0.81      0.81      0.81     63653\n",
      "   macro avg       0.70      0.62      0.63     63653\n",
      "weighted avg       0.82      0.81      0.81     63653\n",
      "\n"
     ]
    }
   ],
   "source": [
    "score(clf)"
   ]
  },
  {
   "cell_type": "code",
   "execution_count": 32,
   "metadata": {},
   "outputs": [
    {
     "name": "stdout",
     "output_type": "stream",
     "text": [
      "R-Squared Score:\t 97.61999999999999\n",
      "\n",
      "              precision    recall  f1-score   support\n",
      "\n",
      "         1.0       0.94      0.95      0.95      3326\n",
      "         2.0       0.94      0.94      0.94      6346\n",
      "         3.0       0.96      0.97      0.97     10789\n",
      "         4.0       1.00      1.00      1.00     43192\n",
      "\n",
      "   micro avg       0.98      0.98      0.98     63653\n",
      "   macro avg       0.96      0.96      0.96     63653\n",
      "weighted avg       0.98      0.98      0.98     63653\n",
      "\n"
     ]
    }
   ],
   "source": [
    "score(rtree)"
   ]
  },
  {
   "cell_type": "code",
   "execution_count": 35,
   "metadata": {},
   "outputs": [],
   "source": [
    "import graphviz\n",
    "from sklearn import tree"
   ]
  },
  {
   "cell_type": "code",
   "execution_count": 40,
   "metadata": {},
   "outputs": [
    {
     "data": {
      "text/plain": [
       "'iris.pdf'"
      ]
     },
     "execution_count": 40,
     "metadata": {},
     "output_type": "execute_result"
    }
   ],
   "source": [
    "dot_data = tree.export_graphviz(clf, out_file=None) \n",
    "graph = graphviz.Source(dot_data) \n",
    "graph.render(\"iris\") "
   ]
  },
  {
   "cell_type": "code",
   "execution_count": 47,
   "metadata": {},
   "outputs": [
    {
     "data": {
      "text/plain": [
       "numpy.float64"
      ]
     },
     "execution_count": 47,
     "metadata": {},
     "output_type": "execute_result"
    }
   ],
   "source": [
    "target = df1['Quartile'].unique()\n",
    "for i in target: i = str(i)\n"
   ]
  },
  {
   "cell_type": "code",
   "execution_count": 60,
   "metadata": {},
   "outputs": [
    {
     "data": {
      "image/svg+xml": [
       "<?xml version=\"1.0\" encoding=\"UTF-8\" standalone=\"no\"?>\r\n",
       "<!DOCTYPE svg PUBLIC \"-//W3C//DTD SVG 1.1//EN\"\r\n",
       " \"http://www.w3.org/Graphics/SVG/1.1/DTD/svg11.dtd\">\r\n",
       "<!-- Generated by graphviz version 2.38.0 (20140413.2041)\r\n",
       " -->\r\n",
       "<!-- Title: Tree Pages: 1 -->\r\n",
       "<svg width=\"2271pt\" height=\"671pt\"\r\n",
       " viewBox=\"0.00 0.00 2271.00 671.00\" xmlns=\"http://www.w3.org/2000/svg\" xmlns:xlink=\"http://www.w3.org/1999/xlink\">\r\n",
       "<g id=\"graph0\" class=\"graph\" transform=\"scale(1 1) rotate(0) translate(4 667)\">\r\n",
       "<title>Tree</title>\r\n",
       "<polygon fill=\"white\" stroke=\"none\" points=\"-4,4 -4,-667 2267,-667 2267,4 -4,4\"/>\r\n",
       "<!-- 0 -->\r\n",
       "<g id=\"node1\" class=\"node\"><title>0</title>\r\n",
       "<path fill=\"#d739e5\" fill-opacity=\"0.611765\" stroke=\"black\" d=\"M1559,-663C1559,-663 1331,-663 1331,-663 1325,-663 1319,-657 1319,-651 1319,-651 1319,-592 1319,-592 1319,-586 1325,-580 1331,-580 1331,-580 1559,-580 1559,-580 1565,-580 1571,-586 1571,-592 1571,-592 1571,-651 1571,-651 1571,-657 1565,-663 1559,-663\"/>\r\n",
       "<text text-anchor=\"start\" x=\"1339.5\" y=\"-647.8\" font-family=\"Helvetica,sans-Serif\" font-size=\"14.00\">Count Of Big Transactions ≤ 65.5</text>\r\n",
       "<text text-anchor=\"start\" x=\"1407.5\" y=\"-632.8\" font-family=\"Helvetica,sans-Serif\" font-size=\"14.00\">gini = 0.497</text>\r\n",
       "<text text-anchor=\"start\" x=\"1385\" y=\"-617.8\" font-family=\"Helvetica,sans-Serif\" font-size=\"14.00\">samples = 129234</text>\r\n",
       "<text text-anchor=\"start\" x=\"1327\" y=\"-602.8\" font-family=\"Helvetica,sans-Serif\" font-size=\"14.00\">value = [6808, 12581, 22076, 87769]</text>\r\n",
       "<text text-anchor=\"start\" x=\"1410\" y=\"-587.8\" font-family=\"Helvetica,sans-Serif\" font-size=\"14.00\">class = 3.0</text>\r\n",
       "</g>\r\n",
       "<!-- 1 -->\r\n",
       "<g id=\"node2\" class=\"node\"><title>1</title>\r\n",
       "<path fill=\"#d739e5\" fill-opacity=\"0.031373\" stroke=\"black\" d=\"M1390,-544C1390,-544 1162,-544 1162,-544 1156,-544 1150,-538 1150,-532 1150,-532 1150,-473 1150,-473 1150,-467 1156,-461 1162,-461 1162,-461 1390,-461 1390,-461 1396,-461 1402,-467 1402,-473 1402,-473 1402,-532 1402,-532 1402,-538 1396,-544 1390,-544\"/>\r\n",
       "<text text-anchor=\"start\" x=\"1231.5\" y=\"-528.8\" font-family=\"Helvetica,sans-Serif\" font-size=\"14.00\">Weight ≤ 4.72</text>\r\n",
       "<text text-anchor=\"start\" x=\"1238.5\" y=\"-513.8\" font-family=\"Helvetica,sans-Serif\" font-size=\"14.00\">gini = 0.727</text>\r\n",
       "<text text-anchor=\"start\" x=\"1220\" y=\"-498.8\" font-family=\"Helvetica,sans-Serif\" font-size=\"14.00\">samples = 50634</text>\r\n",
       "<text text-anchor=\"start\" x=\"1158\" y=\"-483.8\" font-family=\"Helvetica,sans-Serif\" font-size=\"14.00\">value = [6803, 11775, 15481, 16575]</text>\r\n",
       "<text text-anchor=\"start\" x=\"1241\" y=\"-468.8\" font-family=\"Helvetica,sans-Serif\" font-size=\"14.00\">class = 3.0</text>\r\n",
       "</g>\r\n",
       "<!-- 0&#45;&gt;1 -->\r\n",
       "<g id=\"edge1\" class=\"edge\"><title>0&#45;&gt;1</title>\r\n",
       "<path fill=\"none\" stroke=\"black\" d=\"M1386.37,-579.907C1372.34,-570.197 1357.26,-559.758 1342.89,-549.811\"/>\r\n",
       "<polygon fill=\"black\" stroke=\"black\" points=\"1344.74,-546.835 1334.53,-544.021 1340.76,-552.591 1344.74,-546.835\"/>\r\n",
       "<text text-anchor=\"middle\" x=\"1339\" y=\"-564.918\" font-family=\"Helvetica,sans-Serif\" font-size=\"14.00\">True</text>\r\n",
       "</g>\r\n",
       "<!-- 2 -->\r\n",
       "<g id=\"node17\" class=\"node\"><title>2</title>\r\n",
       "<path fill=\"#d739e5\" fill-opacity=\"0.898039\" stroke=\"black\" d=\"M1704.5,-544C1704.5,-544 1525.5,-544 1525.5,-544 1519.5,-544 1513.5,-538 1513.5,-532 1513.5,-532 1513.5,-473 1513.5,-473 1513.5,-467 1519.5,-461 1525.5,-461 1525.5,-461 1704.5,-461 1704.5,-461 1710.5,-461 1716.5,-467 1716.5,-473 1716.5,-473 1716.5,-532 1716.5,-532 1716.5,-538 1710.5,-544 1704.5,-544\"/>\r\n",
       "<text text-anchor=\"start\" x=\"1556.5\" y=\"-528.8\" font-family=\"Helvetica,sans-Serif\" font-size=\"14.00\">Reviewcount ≤ 4.5</text>\r\n",
       "<text text-anchor=\"start\" x=\"1577.5\" y=\"-513.8\" font-family=\"Helvetica,sans-Serif\" font-size=\"14.00\">gini = 0.172</text>\r\n",
       "<text text-anchor=\"start\" x=\"1559\" y=\"-498.8\" font-family=\"Helvetica,sans-Serif\" font-size=\"14.00\">samples = 78600</text>\r\n",
       "<text text-anchor=\"start\" x=\"1521.5\" y=\"-483.8\" font-family=\"Helvetica,sans-Serif\" font-size=\"14.00\">value = [5, 806, 6595, 71194]</text>\r\n",
       "<text text-anchor=\"start\" x=\"1580\" y=\"-468.8\" font-family=\"Helvetica,sans-Serif\" font-size=\"14.00\">class = 3.0</text>\r\n",
       "</g>\r\n",
       "<!-- 0&#45;&gt;2 -->\r\n",
       "<g id=\"edge16\" class=\"edge\"><title>0&#45;&gt;2</title>\r\n",
       "<path fill=\"none\" stroke=\"black\" d=\"M1503.98,-579.907C1518.09,-570.197 1533.26,-559.758 1547.71,-549.811\"/>\r\n",
       "<polygon fill=\"black\" stroke=\"black\" points=\"1549.87,-552.573 1556.12,-544.021 1545.9,-546.807 1549.87,-552.573\"/>\r\n",
       "<text text-anchor=\"middle\" x=\"1551.58\" y=\"-564.905\" font-family=\"Helvetica,sans-Serif\" font-size=\"14.00\">False</text>\r\n",
       "</g>\r\n",
       "<!-- 3 -->\r\n",
       "<g id=\"node3\" class=\"node\"><title>3</title>\r\n",
       "<path fill=\"#47e539\" fill-opacity=\"0.011765\" stroke=\"black\" d=\"M867.5,-425C867.5,-425 664.5,-425 664.5,-425 658.5,-425 652.5,-419 652.5,-413 652.5,-413 652.5,-354 652.5,-354 652.5,-348 658.5,-342 664.5,-342 664.5,-342 867.5,-342 867.5,-342 873.5,-342 879.5,-348 879.5,-354 879.5,-354 879.5,-413 879.5,-413 879.5,-419 873.5,-425 867.5,-425\"/>\r\n",
       "<text text-anchor=\"start\" x=\"665\" y=\"-409.8\" font-family=\"Helvetica,sans-Serif\" font-size=\"14.00\">Count Of Big Transactions ≤ 7.5</text>\r\n",
       "<text text-anchor=\"start\" x=\"732.5\" y=\"-394.8\" font-family=\"Helvetica,sans-Serif\" font-size=\"14.00\">gini = 0.69</text>\r\n",
       "<text text-anchor=\"start\" x=\"710\" y=\"-379.8\" font-family=\"Helvetica,sans-Serif\" font-size=\"14.00\">samples = 26837</text>\r\n",
       "<text text-anchor=\"start\" x=\"660.5\" y=\"-364.8\" font-family=\"Helvetica,sans-Serif\" font-size=\"14.00\">value = [5984, 9691, 9516, 1646]</text>\r\n",
       "<text text-anchor=\"start\" x=\"731\" y=\"-349.8\" font-family=\"Helvetica,sans-Serif\" font-size=\"14.00\">class = 1.0</text>\r\n",
       "</g>\r\n",
       "<!-- 1&#45;&gt;3 -->\r\n",
       "<g id=\"edge2\" class=\"edge\"><title>1&#45;&gt;3</title>\r\n",
       "<path fill=\"none\" stroke=\"black\" d=\"M1149.93,-472.579C1070.59,-454.376 968.639,-430.988 889.741,-412.888\"/>\r\n",
       "<polygon fill=\"black\" stroke=\"black\" points=\"890.277,-409.42 879.747,-410.595 888.712,-416.242 890.277,-409.42\"/>\r\n",
       "</g>\r\n",
       "<!-- 4 -->\r\n",
       "<g id=\"node12\" class=\"node\"><title>4</title>\r\n",
       "<path fill=\"#d739e5\" fill-opacity=\"0.501961\" stroke=\"black\" d=\"M1377.5,-425C1377.5,-425 1174.5,-425 1174.5,-425 1168.5,-425 1162.5,-419 1162.5,-413 1162.5,-413 1162.5,-354 1162.5,-354 1162.5,-348 1168.5,-342 1174.5,-342 1174.5,-342 1377.5,-342 1377.5,-342 1383.5,-342 1389.5,-348 1389.5,-354 1389.5,-354 1389.5,-413 1389.5,-413 1389.5,-419 1383.5,-425 1377.5,-425\"/>\r\n",
       "<text text-anchor=\"start\" x=\"1175\" y=\"-409.8\" font-family=\"Helvetica,sans-Serif\" font-size=\"14.00\">Count Of Big Transactions ≤ 7.5</text>\r\n",
       "<text text-anchor=\"start\" x=\"1238.5\" y=\"-394.8\" font-family=\"Helvetica,sans-Serif\" font-size=\"14.00\">gini = 0.535</text>\r\n",
       "<text text-anchor=\"start\" x=\"1220\" y=\"-379.8\" font-family=\"Helvetica,sans-Serif\" font-size=\"14.00\">samples = 23797</text>\r\n",
       "<text text-anchor=\"start\" x=\"1170.5\" y=\"-364.8\" font-family=\"Helvetica,sans-Serif\" font-size=\"14.00\">value = [819, 2084, 5965, 14929]</text>\r\n",
       "<text text-anchor=\"start\" x=\"1241\" y=\"-349.8\" font-family=\"Helvetica,sans-Serif\" font-size=\"14.00\">class = 3.0</text>\r\n",
       "</g>\r\n",
       "<!-- 1&#45;&gt;4 -->\r\n",
       "<g id=\"edge11\" class=\"edge\"><title>1&#45;&gt;4</title>\r\n",
       "<path fill=\"none\" stroke=\"black\" d=\"M1276,-460.907C1276,-452.649 1276,-443.864 1276,-435.302\"/>\r\n",
       "<polygon fill=\"black\" stroke=\"black\" points=\"1279.5,-435.021 1276,-425.021 1272.5,-435.021 1279.5,-435.021\"/>\r\n",
       "</g>\r\n",
       "<!-- 9 -->\r\n",
       "<g id=\"node4\" class=\"node\"><title>9</title>\r\n",
       "<path fill=\"#e58139\" fill-opacity=\"0.109804\" stroke=\"black\" d=\"M513.5,-306C513.5,-306 326.5,-306 326.5,-306 320.5,-306 314.5,-300 314.5,-294 314.5,-294 314.5,-235 314.5,-235 314.5,-229 320.5,-223 326.5,-223 326.5,-223 513.5,-223 513.5,-223 519.5,-223 525.5,-229 525.5,-235 525.5,-235 525.5,-294 525.5,-294 525.5,-300 519.5,-306 513.5,-306\"/>\r\n",
       "<text text-anchor=\"start\" x=\"353.5\" y=\"-290.8\" font-family=\"Helvetica,sans-Serif\" font-size=\"14.00\">Commentcount ≤ 0.5</text>\r\n",
       "<text text-anchor=\"start\" x=\"382.5\" y=\"-275.8\" font-family=\"Helvetica,sans-Serif\" font-size=\"14.00\">gini = 0.606</text>\r\n",
       "<text text-anchor=\"start\" x=\"364\" y=\"-260.8\" font-family=\"Helvetica,sans-Serif\" font-size=\"14.00\">samples = 11078</text>\r\n",
       "<text text-anchor=\"start\" x=\"322.5\" y=\"-245.8\" font-family=\"Helvetica,sans-Serif\" font-size=\"14.00\">value = [5161, 4421, 1484, 12]</text>\r\n",
       "<text text-anchor=\"start\" x=\"385\" y=\"-230.8\" font-family=\"Helvetica,sans-Serif\" font-size=\"14.00\">class = 4.0</text>\r\n",
       "</g>\r\n",
       "<!-- 3&#45;&gt;9 -->\r\n",
       "<g id=\"edge3\" class=\"edge\"><title>3&#45;&gt;9</title>\r\n",
       "<path fill=\"none\" stroke=\"black\" d=\"M652.227,-344.028C614.641,-331.318 572.813,-317.174 535.126,-304.43\"/>\r\n",
       "<polygon fill=\"black\" stroke=\"black\" points=\"536.233,-301.11 525.639,-301.222 533.991,-307.741 536.233,-301.11\"/>\r\n",
       "</g>\r\n",
       "<!-- 10 -->\r\n",
       "<g id=\"node9\" class=\"node\"><title>10</title>\r\n",
       "<path fill=\"#399de5\" fill-opacity=\"0.262745\" stroke=\"black\" d=\"M863.5,-306C863.5,-306 668.5,-306 668.5,-306 662.5,-306 656.5,-300 656.5,-294 656.5,-294 656.5,-235 656.5,-235 656.5,-229 662.5,-223 668.5,-223 668.5,-223 863.5,-223 863.5,-223 869.5,-223 875.5,-229 875.5,-235 875.5,-235 875.5,-294 875.5,-294 875.5,-300 869.5,-306 863.5,-306\"/>\r\n",
       "<text text-anchor=\"start\" x=\"717.5\" y=\"-290.8\" font-family=\"Helvetica,sans-Serif\" font-size=\"14.00\">Weight ≤ 1.245</text>\r\n",
       "<text text-anchor=\"start\" x=\"728.5\" y=\"-275.8\" font-family=\"Helvetica,sans-Serif\" font-size=\"14.00\">gini = 0.615</text>\r\n",
       "<text text-anchor=\"start\" x=\"710\" y=\"-260.8\" font-family=\"Helvetica,sans-Serif\" font-size=\"14.00\">samples = 15759</text>\r\n",
       "<text text-anchor=\"start\" x=\"664.5\" y=\"-245.8\" font-family=\"Helvetica,sans-Serif\" font-size=\"14.00\">value = [823, 5270, 8032, 1634]</text>\r\n",
       "<text text-anchor=\"start\" x=\"731\" y=\"-230.8\" font-family=\"Helvetica,sans-Serif\" font-size=\"14.00\">class = 2.0</text>\r\n",
       "</g>\r\n",
       "<!-- 3&#45;&gt;10 -->\r\n",
       "<g id=\"edge8\" class=\"edge\"><title>3&#45;&gt;10</title>\r\n",
       "<path fill=\"none\" stroke=\"black\" d=\"M766,-341.907C766,-333.649 766,-324.864 766,-316.302\"/>\r\n",
       "<polygon fill=\"black\" stroke=\"black\" points=\"769.5,-316.021 766,-306.021 762.5,-316.021 769.5,-316.021\"/>\r\n",
       "</g>\r\n",
       "<!-- 13 -->\r\n",
       "<g id=\"node5\" class=\"node\"><title>13</title>\r\n",
       "<path fill=\"#e58139\" fill-opacity=\"0.415686\" stroke=\"black\" d=\"M288,-187C288,-187 94,-187 94,-187 88,-187 82,-181 82,-175 82,-175 82,-116 82,-116 82,-110 88,-104 94,-104 94,-104 288,-104 288,-104 294,-104 300,-110 300,-116 300,-116 300,-175 300,-175 300,-181 294,-187 288,-187\"/>\r\n",
       "<text text-anchor=\"start\" x=\"90\" y=\"-171.8\" font-family=\"Helvetica,sans-Serif\" font-size=\"14.00\">Count Of Big Transactions ≤ 1.5</text>\r\n",
       "<text text-anchor=\"start\" x=\"153.5\" y=\"-156.8\" font-family=\"Helvetica,sans-Serif\" font-size=\"14.00\">gini = 0.509</text>\r\n",
       "<text text-anchor=\"start\" x=\"139.5\" y=\"-141.8\" font-family=\"Helvetica,sans-Serif\" font-size=\"14.00\">samples = 7533</text>\r\n",
       "<text text-anchor=\"start\" x=\"102\" y=\"-126.8\" font-family=\"Helvetica,sans-Serif\" font-size=\"14.00\">value = [4615, 2533, 385, 0]</text>\r\n",
       "<text text-anchor=\"start\" x=\"156\" y=\"-111.8\" font-family=\"Helvetica,sans-Serif\" font-size=\"14.00\">class = 4.0</text>\r\n",
       "</g>\r\n",
       "<!-- 9&#45;&gt;13 -->\r\n",
       "<g id=\"edge4\" class=\"edge\"><title>9&#45;&gt;13</title>\r\n",
       "<path fill=\"none\" stroke=\"black\" d=\"M340.55,-222.907C320.833,-212.834 299.583,-201.977 279.464,-191.698\"/>\r\n",
       "<polygon fill=\"black\" stroke=\"black\" points=\"280.807,-188.454 270.31,-187.021 277.623,-194.687 280.807,-188.454\"/>\r\n",
       "</g>\r\n",
       "<!-- 14 -->\r\n",
       "<g id=\"node8\" class=\"node\"><title>14</title>\r\n",
       "<path fill=\"#47e539\" fill-opacity=\"0.321569\" stroke=\"black\" d=\"M509.5,-179.5C509.5,-179.5 330.5,-179.5 330.5,-179.5 324.5,-179.5 318.5,-173.5 318.5,-167.5 318.5,-167.5 318.5,-123.5 318.5,-123.5 318.5,-117.5 324.5,-111.5 330.5,-111.5 330.5,-111.5 509.5,-111.5 509.5,-111.5 515.5,-111.5 521.5,-117.5 521.5,-123.5 521.5,-123.5 521.5,-167.5 521.5,-167.5 521.5,-173.5 515.5,-179.5 509.5,-179.5\"/>\r\n",
       "<text text-anchor=\"start\" x=\"382.5\" y=\"-164.3\" font-family=\"Helvetica,sans-Serif\" font-size=\"14.00\">gini = 0.597</text>\r\n",
       "<text text-anchor=\"start\" x=\"368.5\" y=\"-149.3\" font-family=\"Helvetica,sans-Serif\" font-size=\"14.00\">samples = 3545</text>\r\n",
       "<text text-anchor=\"start\" x=\"326.5\" y=\"-134.3\" font-family=\"Helvetica,sans-Serif\" font-size=\"14.00\">value = [546, 1888, 1099, 12]</text>\r\n",
       "<text text-anchor=\"start\" x=\"385\" y=\"-119.3\" font-family=\"Helvetica,sans-Serif\" font-size=\"14.00\">class = 1.0</text>\r\n",
       "</g>\r\n",
       "<!-- 9&#45;&gt;14 -->\r\n",
       "<g id=\"edge7\" class=\"edge\"><title>9&#45;&gt;14</title>\r\n",
       "<path fill=\"none\" stroke=\"black\" d=\"M420,-222.907C420,-212.204 420,-200.615 420,-189.776\"/>\r\n",
       "<polygon fill=\"black\" stroke=\"black\" points=\"423.5,-189.667 420,-179.667 416.5,-189.667 423.5,-189.667\"/>\r\n",
       "</g>\r\n",
       "<!-- 19 -->\r\n",
       "<g id=\"node6\" class=\"node\"><title>19</title>\r\n",
       "<path fill=\"#e58139\" fill-opacity=\"0.811765\" stroke=\"black\" d=\"M166,-68C166,-68 12,-68 12,-68 6,-68 0,-62 0,-56 0,-56 0,-12 0,-12 0,-6 6,-0 12,-0 12,-0 166,-0 166,-0 172,-0 178,-6 178,-12 178,-12 178,-56 178,-56 178,-62 172,-68 166,-68\"/>\r\n",
       "<text text-anchor=\"start\" x=\"55.5\" y=\"-52.8\" font-family=\"Helvetica,sans-Serif\" font-size=\"14.00\">gini = 0.28</text>\r\n",
       "<text text-anchor=\"start\" x=\"37.5\" y=\"-37.8\" font-family=\"Helvetica,sans-Serif\" font-size=\"14.00\">samples = 3143</text>\r\n",
       "<text text-anchor=\"start\" x=\"8\" y=\"-22.8\" font-family=\"Helvetica,sans-Serif\" font-size=\"14.00\">value = [2629, 440, 74, 0]</text>\r\n",
       "<text text-anchor=\"start\" x=\"54\" y=\"-7.8\" font-family=\"Helvetica,sans-Serif\" font-size=\"14.00\">class = 4.0</text>\r\n",
       "</g>\r\n",
       "<!-- 13&#45;&gt;19 -->\r\n",
       "<g id=\"edge5\" class=\"edge\"><title>13&#45;&gt;19</title>\r\n",
       "<path fill=\"none\" stroke=\"black\" d=\"M153.019,-103.726C144.523,-94.6054 135.51,-84.93 127.013,-75.8078\"/>\r\n",
       "<polygon fill=\"black\" stroke=\"black\" points=\"129.396,-73.2312 120.019,-68.2996 124.274,-78.0025 129.396,-73.2312\"/>\r\n",
       "</g>\r\n",
       "<!-- 20 -->\r\n",
       "<g id=\"node7\" class=\"node\"><title>20</title>\r\n",
       "<path fill=\"#47e539\" fill-opacity=\"0.043137\" stroke=\"black\" d=\"M378,-68C378,-68 208,-68 208,-68 202,-68 196,-62 196,-56 196,-56 196,-12 196,-12 196,-6 202,-0 208,-0 208,-0 378,-0 378,-0 384,-0 390,-6 390,-12 390,-12 390,-56 390,-56 390,-62 384,-68 378,-68\"/>\r\n",
       "<text text-anchor=\"start\" x=\"255.5\" y=\"-52.8\" font-family=\"Helvetica,sans-Serif\" font-size=\"14.00\">gini = 0.563</text>\r\n",
       "<text text-anchor=\"start\" x=\"241.5\" y=\"-37.8\" font-family=\"Helvetica,sans-Serif\" font-size=\"14.00\">samples = 4390</text>\r\n",
       "<text text-anchor=\"start\" x=\"204\" y=\"-22.8\" font-family=\"Helvetica,sans-Serif\" font-size=\"14.00\">value = [1986, 2093, 311, 0]</text>\r\n",
       "<text text-anchor=\"start\" x=\"258\" y=\"-7.8\" font-family=\"Helvetica,sans-Serif\" font-size=\"14.00\">class = 1.0</text>\r\n",
       "</g>\r\n",
       "<!-- 13&#45;&gt;20 -->\r\n",
       "<g id=\"edge6\" class=\"edge\"><title>13&#45;&gt;20</title>\r\n",
       "<path fill=\"none\" stroke=\"black\" d=\"M228.981,-103.726C237.477,-94.6054 246.49,-84.93 254.987,-75.8078\"/>\r\n",
       "<polygon fill=\"black\" stroke=\"black\" points=\"257.726,-78.0025 261.981,-68.2996 252.604,-73.2312 257.726,-78.0025\"/>\r\n",
       "</g>\r\n",
       "<!-- 15 -->\r\n",
       "<g id=\"node10\" class=\"node\"><title>15</title>\r\n",
       "<path fill=\"#47e539\" fill-opacity=\"0.207843\" stroke=\"black\" d=\"M738.5,-179.5C738.5,-179.5 551.5,-179.5 551.5,-179.5 545.5,-179.5 539.5,-173.5 539.5,-167.5 539.5,-167.5 539.5,-123.5 539.5,-123.5 539.5,-117.5 545.5,-111.5 551.5,-111.5 551.5,-111.5 738.5,-111.5 738.5,-111.5 744.5,-111.5 750.5,-117.5 750.5,-123.5 750.5,-123.5 750.5,-167.5 750.5,-167.5 750.5,-173.5 744.5,-179.5 738.5,-179.5\"/>\r\n",
       "<text text-anchor=\"start\" x=\"607.5\" y=\"-164.3\" font-family=\"Helvetica,sans-Serif\" font-size=\"14.00\">gini = 0.602</text>\r\n",
       "<text text-anchor=\"start\" x=\"593.5\" y=\"-149.3\" font-family=\"Helvetica,sans-Serif\" font-size=\"14.00\">samples = 7136</text>\r\n",
       "<text text-anchor=\"start\" x=\"547.5\" y=\"-134.3\" font-family=\"Helvetica,sans-Serif\" font-size=\"14.00\">value = [723, 3569, 2643, 201]</text>\r\n",
       "<text text-anchor=\"start\" x=\"610\" y=\"-119.3\" font-family=\"Helvetica,sans-Serif\" font-size=\"14.00\">class = 1.0</text>\r\n",
       "</g>\r\n",
       "<!-- 10&#45;&gt;15 -->\r\n",
       "<g id=\"edge9\" class=\"edge\"><title>10&#45;&gt;15</title>\r\n",
       "<path fill=\"none\" stroke=\"black\" d=\"M724.02,-222.907C711.923,-211.211 698.734,-198.457 686.657,-186.78\"/>\r\n",
       "<polygon fill=\"black\" stroke=\"black\" points=\"688.923,-184.102 679.301,-179.667 684.057,-189.134 688.923,-184.102\"/>\r\n",
       "</g>\r\n",
       "<!-- 16 -->\r\n",
       "<g id=\"node11\" class=\"node\"><title>16</title>\r\n",
       "<path fill=\"#399de5\" fill-opacity=\"0.533333\" stroke=\"black\" d=\"M975.5,-179.5C975.5,-179.5 780.5,-179.5 780.5,-179.5 774.5,-179.5 768.5,-173.5 768.5,-167.5 768.5,-167.5 768.5,-123.5 768.5,-123.5 768.5,-117.5 774.5,-111.5 780.5,-111.5 780.5,-111.5 975.5,-111.5 975.5,-111.5 981.5,-111.5 987.5,-117.5 987.5,-123.5 987.5,-123.5 987.5,-167.5 987.5,-167.5 987.5,-173.5 981.5,-179.5 975.5,-179.5\"/>\r\n",
       "<text text-anchor=\"start\" x=\"840.5\" y=\"-164.3\" font-family=\"Helvetica,sans-Serif\" font-size=\"14.00\">gini = 0.543</text>\r\n",
       "<text text-anchor=\"start\" x=\"826.5\" y=\"-149.3\" font-family=\"Helvetica,sans-Serif\" font-size=\"14.00\">samples = 8623</text>\r\n",
       "<text text-anchor=\"start\" x=\"776.5\" y=\"-134.3\" font-family=\"Helvetica,sans-Serif\" font-size=\"14.00\">value = [100, 1701, 5389, 1433]</text>\r\n",
       "<text text-anchor=\"start\" x=\"843\" y=\"-119.3\" font-family=\"Helvetica,sans-Serif\" font-size=\"14.00\">class = 2.0</text>\r\n",
       "</g>\r\n",
       "<!-- 10&#45;&gt;16 -->\r\n",
       "<g id=\"edge10\" class=\"edge\"><title>10&#45;&gt;16</title>\r\n",
       "<path fill=\"none\" stroke=\"black\" d=\"M804.858,-222.907C815.949,-211.321 828.033,-198.698 839.125,-187.111\"/>\r\n",
       "<polygon fill=\"black\" stroke=\"black\" points=\"841.864,-189.311 846.25,-179.667 836.807,-184.47 841.864,-189.311\"/>\r\n",
       "</g>\r\n",
       "<!-- 5 -->\r\n",
       "<g id=\"node13\" class=\"node\"><title>5</title>\r\n",
       "<path fill=\"#399de5\" fill-opacity=\"0.180392\" stroke=\"black\" d=\"M1212.5,-306C1212.5,-306 1017.5,-306 1017.5,-306 1011.5,-306 1005.5,-300 1005.5,-294 1005.5,-294 1005.5,-235 1005.5,-235 1005.5,-229 1011.5,-223 1017.5,-223 1017.5,-223 1212.5,-223 1212.5,-223 1218.5,-223 1224.5,-229 1224.5,-235 1224.5,-235 1224.5,-294 1224.5,-294 1224.5,-300 1218.5,-306 1212.5,-306\"/>\r\n",
       "<text text-anchor=\"start\" x=\"1066.5\" y=\"-290.8\" font-family=\"Helvetica,sans-Serif\" font-size=\"14.00\">Weight ≤ 45.68</text>\r\n",
       "<text text-anchor=\"start\" x=\"1077.5\" y=\"-275.8\" font-family=\"Helvetica,sans-Serif\" font-size=\"14.00\">gini = 0.682</text>\r\n",
       "<text text-anchor=\"start\" x=\"1059\" y=\"-260.8\" font-family=\"Helvetica,sans-Serif\" font-size=\"14.00\">samples = 10518</text>\r\n",
       "<text text-anchor=\"start\" x=\"1013.5\" y=\"-245.8\" font-family=\"Helvetica,sans-Serif\" font-size=\"14.00\">value = [819, 2005, 4502, 3192]</text>\r\n",
       "<text text-anchor=\"start\" x=\"1080\" y=\"-230.8\" font-family=\"Helvetica,sans-Serif\" font-size=\"14.00\">class = 2.0</text>\r\n",
       "</g>\r\n",
       "<!-- 4&#45;&gt;5 -->\r\n",
       "<g id=\"edge12\" class=\"edge\"><title>4&#45;&gt;5</title>\r\n",
       "<path fill=\"none\" stroke=\"black\" d=\"M1220.14,-341.907C1206.9,-332.288 1192.68,-321.953 1179.11,-312.09\"/>\r\n",
       "<polygon fill=\"black\" stroke=\"black\" points=\"1180.91,-309.068 1170.76,-306.021 1176.79,-314.731 1180.91,-309.068\"/>\r\n",
       "</g>\r\n",
       "<!-- 6 -->\r\n",
       "<g id=\"node16\" class=\"node\"><title>6</title>\r\n",
       "<path fill=\"#d739e5\" fill-opacity=\"0.870588\" stroke=\"black\" d=\"M1425,-298.5C1425,-298.5 1255,-298.5 1255,-298.5 1249,-298.5 1243,-292.5 1243,-286.5 1243,-286.5 1243,-242.5 1243,-242.5 1243,-236.5 1249,-230.5 1255,-230.5 1255,-230.5 1425,-230.5 1425,-230.5 1431,-230.5 1437,-236.5 1437,-242.5 1437,-242.5 1437,-286.5 1437,-286.5 1437,-292.5 1431,-298.5 1425,-298.5\"/>\r\n",
       "<text text-anchor=\"start\" x=\"1302.5\" y=\"-283.3\" font-family=\"Helvetica,sans-Serif\" font-size=\"14.00\">gini = 0.207</text>\r\n",
       "<text text-anchor=\"start\" x=\"1284\" y=\"-268.3\" font-family=\"Helvetica,sans-Serif\" font-size=\"14.00\">samples = 13279</text>\r\n",
       "<text text-anchor=\"start\" x=\"1251\" y=\"-253.3\" font-family=\"Helvetica,sans-Serif\" font-size=\"14.00\">value = [0, 79, 1463, 11737]</text>\r\n",
       "<text text-anchor=\"start\" x=\"1305\" y=\"-238.3\" font-family=\"Helvetica,sans-Serif\" font-size=\"14.00\">class = 3.0</text>\r\n",
       "</g>\r\n",
       "<!-- 4&#45;&gt;6 -->\r\n",
       "<g id=\"edge15\" class=\"edge\"><title>4&#45;&gt;6</title>\r\n",
       "<path fill=\"none\" stroke=\"black\" d=\"M1298.2,-341.907C1304.24,-330.873 1310.79,-318.898 1316.88,-307.773\"/>\r\n",
       "<polygon fill=\"black\" stroke=\"black\" points=\"1320.13,-309.12 1321.86,-298.667 1313.99,-305.76 1320.13,-309.12\"/>\r\n",
       "</g>\r\n",
       "<!-- 17 -->\r\n",
       "<g id=\"node14\" class=\"node\"><title>17</title>\r\n",
       "<path fill=\"#399de5\" fill-opacity=\"0.337255\" stroke=\"black\" d=\"M1212.5,-179.5C1212.5,-179.5 1017.5,-179.5 1017.5,-179.5 1011.5,-179.5 1005.5,-173.5 1005.5,-167.5 1005.5,-167.5 1005.5,-123.5 1005.5,-123.5 1005.5,-117.5 1011.5,-111.5 1017.5,-111.5 1017.5,-111.5 1212.5,-111.5 1212.5,-111.5 1218.5,-111.5 1224.5,-117.5 1224.5,-123.5 1224.5,-123.5 1224.5,-167.5 1224.5,-167.5 1224.5,-173.5 1218.5,-179.5 1212.5,-179.5\"/>\r\n",
       "<text text-anchor=\"start\" x=\"1077.5\" y=\"-164.3\" font-family=\"Helvetica,sans-Serif\" font-size=\"14.00\">gini = 0.661</text>\r\n",
       "<text text-anchor=\"start\" x=\"1063.5\" y=\"-149.3\" font-family=\"Helvetica,sans-Serif\" font-size=\"14.00\">samples = 7933</text>\r\n",
       "<text text-anchor=\"start\" x=\"1013.5\" y=\"-134.3\" font-family=\"Helvetica,sans-Serif\" font-size=\"14.00\">value = [749, 1857, 3910, 1417]</text>\r\n",
       "<text text-anchor=\"start\" x=\"1080\" y=\"-119.3\" font-family=\"Helvetica,sans-Serif\" font-size=\"14.00\">class = 2.0</text>\r\n",
       "</g>\r\n",
       "<!-- 5&#45;&gt;17 -->\r\n",
       "<g id=\"edge13\" class=\"edge\"><title>5&#45;&gt;17</title>\r\n",
       "<path fill=\"none\" stroke=\"black\" d=\"M1115,-222.907C1115,-212.204 1115,-200.615 1115,-189.776\"/>\r\n",
       "<polygon fill=\"black\" stroke=\"black\" points=\"1118.5,-189.667 1115,-179.667 1111.5,-189.667 1118.5,-189.667\"/>\r\n",
       "</g>\r\n",
       "<!-- 18 -->\r\n",
       "<g id=\"node15\" class=\"node\"><title>18</title>\r\n",
       "<path fill=\"#d739e5\" fill-opacity=\"0.592157\" stroke=\"black\" d=\"M1425,-179.5C1425,-179.5 1255,-179.5 1255,-179.5 1249,-179.5 1243,-173.5 1243,-167.5 1243,-167.5 1243,-123.5 1243,-123.5 1243,-117.5 1249,-111.5 1255,-111.5 1255,-111.5 1425,-111.5 1425,-111.5 1431,-111.5 1437,-117.5 1437,-123.5 1437,-123.5 1437,-167.5 1437,-167.5 1437,-173.5 1431,-179.5 1425,-179.5\"/>\r\n",
       "<text text-anchor=\"start\" x=\"1302.5\" y=\"-164.3\" font-family=\"Helvetica,sans-Serif\" font-size=\"14.00\">gini = 0.472</text>\r\n",
       "<text text-anchor=\"start\" x=\"1288.5\" y=\"-149.3\" font-family=\"Helvetica,sans-Serif\" font-size=\"14.00\">samples = 2585</text>\r\n",
       "<text text-anchor=\"start\" x=\"1251\" y=\"-134.3\" font-family=\"Helvetica,sans-Serif\" font-size=\"14.00\">value = [70, 148, 592, 1775]</text>\r\n",
       "<text text-anchor=\"start\" x=\"1305\" y=\"-119.3\" font-family=\"Helvetica,sans-Serif\" font-size=\"14.00\">class = 3.0</text>\r\n",
       "</g>\r\n",
       "<!-- 5&#45;&gt;18 -->\r\n",
       "<g id=\"edge14\" class=\"edge\"><title>5&#45;&gt;18</title>\r\n",
       "<path fill=\"none\" stroke=\"black\" d=\"M1193.06,-222.907C1217.15,-210.383 1243.56,-196.647 1267.27,-184.318\"/>\r\n",
       "<polygon fill=\"black\" stroke=\"black\" points=\"1268.96,-187.386 1276.22,-179.667 1265.73,-181.175 1268.96,-187.386\"/>\r\n",
       "</g>\r\n",
       "<!-- 7 -->\r\n",
       "<g id=\"node18\" class=\"node\"><title>7</title>\r\n",
       "<path fill=\"#d739e5\" fill-opacity=\"0.254902\" stroke=\"black\" d=\"M1720.5,-425C1720.5,-425 1509.5,-425 1509.5,-425 1503.5,-425 1497.5,-419 1497.5,-413 1497.5,-413 1497.5,-354 1497.5,-354 1497.5,-348 1503.5,-342 1509.5,-342 1509.5,-342 1720.5,-342 1720.5,-342 1726.5,-342 1732.5,-348 1732.5,-354 1732.5,-354 1732.5,-413 1732.5,-413 1732.5,-419 1726.5,-425 1720.5,-425\"/>\r\n",
       "<text text-anchor=\"start\" x=\"1505.5\" y=\"-409.8\" font-family=\"Helvetica,sans-Serif\" font-size=\"14.00\">Count Of Big Transactions ≤ 461.5</text>\r\n",
       "<text text-anchor=\"start\" x=\"1577.5\" y=\"-394.8\" font-family=\"Helvetica,sans-Serif\" font-size=\"14.00\">gini = 0.529</text>\r\n",
       "<text text-anchor=\"start\" x=\"1563.5\" y=\"-379.8\" font-family=\"Helvetica,sans-Serif\" font-size=\"14.00\">samples = 8614</text>\r\n",
       "<text text-anchor=\"start\" x=\"1526\" y=\"-364.8\" font-family=\"Helvetica,sans-Serif\" font-size=\"14.00\">value = [2, 377, 3455, 4780]</text>\r\n",
       "<text text-anchor=\"start\" x=\"1580\" y=\"-349.8\" font-family=\"Helvetica,sans-Serif\" font-size=\"14.00\">class = 3.0</text>\r\n",
       "</g>\r\n",
       "<!-- 2&#45;&gt;7 -->\r\n",
       "<g id=\"edge17\" class=\"edge\"><title>2&#45;&gt;7</title>\r\n",
       "<path fill=\"none\" stroke=\"black\" d=\"M1615,-460.907C1615,-452.649 1615,-443.864 1615,-435.302\"/>\r\n",
       "<polygon fill=\"black\" stroke=\"black\" points=\"1618.5,-435.021 1615,-425.021 1611.5,-435.021 1618.5,-435.021\"/>\r\n",
       "</g>\r\n",
       "<!-- 8 -->\r\n",
       "<g id=\"node21\" class=\"node\"><title>8</title>\r\n",
       "<path fill=\"#d739e5\" fill-opacity=\"0.945098\" stroke=\"black\" d=\"M2046.5,-425C2046.5,-425 1867.5,-425 1867.5,-425 1861.5,-425 1855.5,-419 1855.5,-413 1855.5,-413 1855.5,-354 1855.5,-354 1855.5,-348 1861.5,-342 1867.5,-342 1867.5,-342 2046.5,-342 2046.5,-342 2052.5,-342 2058.5,-348 2058.5,-354 2058.5,-354 2058.5,-413 2058.5,-413 2058.5,-419 2052.5,-425 2046.5,-425\"/>\r\n",
       "<text text-anchor=\"start\" x=\"1890.5\" y=\"-409.8\" font-family=\"Helvetica,sans-Serif\" font-size=\"14.00\">Commentcount ≤ 0.5</text>\r\n",
       "<text text-anchor=\"start\" x=\"1919.5\" y=\"-394.8\" font-family=\"Helvetica,sans-Serif\" font-size=\"14.00\">gini = 0.097</text>\r\n",
       "<text text-anchor=\"start\" x=\"1901\" y=\"-379.8\" font-family=\"Helvetica,sans-Serif\" font-size=\"14.00\">samples = 69986</text>\r\n",
       "<text text-anchor=\"start\" x=\"1863.5\" y=\"-364.8\" font-family=\"Helvetica,sans-Serif\" font-size=\"14.00\">value = [3, 429, 3140, 66414]</text>\r\n",
       "<text text-anchor=\"start\" x=\"1922\" y=\"-349.8\" font-family=\"Helvetica,sans-Serif\" font-size=\"14.00\">class = 3.0</text>\r\n",
       "</g>\r\n",
       "<!-- 2&#45;&gt;8 -->\r\n",
       "<g id=\"edge20\" class=\"edge\"><title>2&#45;&gt;8</title>\r\n",
       "<path fill=\"none\" stroke=\"black\" d=\"M1716.69,-466.713C1757.33,-452.808 1804.26,-436.752 1845.81,-422.54\"/>\r\n",
       "<polygon fill=\"black\" stroke=\"black\" points=\"1847.08,-425.803 1855.41,-419.254 1844.82,-419.179 1847.08,-425.803\"/>\r\n",
       "</g>\r\n",
       "<!-- 11 -->\r\n",
       "<g id=\"node19\" class=\"node\"><title>11</title>\r\n",
       "<path fill=\"#399de5\" fill-opacity=\"0.192157\" stroke=\"black\" d=\"M1637,-298.5C1637,-298.5 1467,-298.5 1467,-298.5 1461,-298.5 1455,-292.5 1455,-286.5 1455,-286.5 1455,-242.5 1455,-242.5 1455,-236.5 1461,-230.5 1467,-230.5 1467,-230.5 1637,-230.5 1637,-230.5 1643,-230.5 1649,-236.5 1649,-242.5 1649,-242.5 1649,-286.5 1649,-286.5 1649,-292.5 1643,-298.5 1637,-298.5\"/>\r\n",
       "<text text-anchor=\"start\" x=\"1518.5\" y=\"-283.3\" font-family=\"Helvetica,sans-Serif\" font-size=\"14.00\">gini = 0.55</text>\r\n",
       "<text text-anchor=\"start\" x=\"1500.5\" y=\"-268.3\" font-family=\"Helvetica,sans-Serif\" font-size=\"14.00\">samples = 6161</text>\r\n",
       "<text text-anchor=\"start\" x=\"1463\" y=\"-253.3\" font-family=\"Helvetica,sans-Serif\" font-size=\"14.00\">value = [2, 377, 3236, 2546]</text>\r\n",
       "<text text-anchor=\"start\" x=\"1517\" y=\"-238.3\" font-family=\"Helvetica,sans-Serif\" font-size=\"14.00\">class = 2.0</text>\r\n",
       "</g>\r\n",
       "<!-- 7&#45;&gt;11 -->\r\n",
       "<g id=\"edge18\" class=\"edge\"><title>7&#45;&gt;11</title>\r\n",
       "<path fill=\"none\" stroke=\"black\" d=\"M1593.14,-341.907C1587.2,-330.873 1580.75,-318.898 1574.76,-307.773\"/>\r\n",
       "<polygon fill=\"black\" stroke=\"black\" points=\"1577.68,-305.812 1569.86,-298.667 1571.52,-309.131 1577.68,-305.812\"/>\r\n",
       "</g>\r\n",
       "<!-- 12 -->\r\n",
       "<g id=\"node20\" class=\"node\"><title>12</title>\r\n",
       "<path fill=\"#d739e5\" fill-opacity=\"0.901961\" stroke=\"black\" d=\"M1825,-298.5C1825,-298.5 1679,-298.5 1679,-298.5 1673,-298.5 1667,-292.5 1667,-286.5 1667,-286.5 1667,-242.5 1667,-242.5 1667,-236.5 1673,-230.5 1679,-230.5 1679,-230.5 1825,-230.5 1825,-230.5 1831,-230.5 1837,-236.5 1837,-242.5 1837,-242.5 1837,-286.5 1837,-286.5 1837,-292.5 1831,-298.5 1825,-298.5\"/>\r\n",
       "<text text-anchor=\"start\" x=\"1714.5\" y=\"-283.3\" font-family=\"Helvetica,sans-Serif\" font-size=\"14.00\">gini = 0.163</text>\r\n",
       "<text text-anchor=\"start\" x=\"1700.5\" y=\"-268.3\" font-family=\"Helvetica,sans-Serif\" font-size=\"14.00\">samples = 2453</text>\r\n",
       "<text text-anchor=\"start\" x=\"1675\" y=\"-253.3\" font-family=\"Helvetica,sans-Serif\" font-size=\"14.00\">value = [0, 0, 219, 2234]</text>\r\n",
       "<text text-anchor=\"start\" x=\"1717\" y=\"-238.3\" font-family=\"Helvetica,sans-Serif\" font-size=\"14.00\">class = 3.0</text>\r\n",
       "</g>\r\n",
       "<!-- 7&#45;&gt;12 -->\r\n",
       "<g id=\"edge19\" class=\"edge\"><title>7&#45;&gt;12</title>\r\n",
       "<path fill=\"none\" stroke=\"black\" d=\"M1662.53,-341.907C1676.36,-330.101 1691.44,-317.217 1705.22,-305.45\"/>\r\n",
       "<polygon fill=\"black\" stroke=\"black\" points=\"1707.83,-307.823 1713.16,-298.667 1703.29,-302.5 1707.83,-307.823\"/>\r\n",
       "</g>\r\n",
       "<!-- 21 -->\r\n",
       "<g id=\"node22\" class=\"node\"><title>21</title>\r\n",
       "<path fill=\"#d739e5\" fill-opacity=\"0.784314\" stroke=\"black\" d=\"M2046.5,-298.5C2046.5,-298.5 1867.5,-298.5 1867.5,-298.5 1861.5,-298.5 1855.5,-292.5 1855.5,-286.5 1855.5,-286.5 1855.5,-242.5 1855.5,-242.5 1855.5,-236.5 1861.5,-230.5 1867.5,-230.5 1867.5,-230.5 2046.5,-230.5 2046.5,-230.5 2052.5,-230.5 2058.5,-236.5 2058.5,-242.5 2058.5,-242.5 2058.5,-286.5 2058.5,-286.5 2058.5,-292.5 2052.5,-298.5 2046.5,-298.5\"/>\r\n",
       "<text text-anchor=\"start\" x=\"1923.5\" y=\"-283.3\" font-family=\"Helvetica,sans-Serif\" font-size=\"14.00\">gini = 0.31</text>\r\n",
       "<text text-anchor=\"start\" x=\"1901\" y=\"-268.3\" font-family=\"Helvetica,sans-Serif\" font-size=\"14.00\">samples = 13121</text>\r\n",
       "<text text-anchor=\"start\" x=\"1863.5\" y=\"-253.3\" font-family=\"Helvetica,sans-Serif\" font-size=\"14.00\">value = [3, 426, 1987, 10705]</text>\r\n",
       "<text text-anchor=\"start\" x=\"1922\" y=\"-238.3\" font-family=\"Helvetica,sans-Serif\" font-size=\"14.00\">class = 3.0</text>\r\n",
       "</g>\r\n",
       "<!-- 8&#45;&gt;21 -->\r\n",
       "<g id=\"edge21\" class=\"edge\"><title>8&#45;&gt;21</title>\r\n",
       "<path fill=\"none\" stroke=\"black\" d=\"M1957,-341.907C1957,-331.204 1957,-319.615 1957,-308.776\"/>\r\n",
       "<polygon fill=\"black\" stroke=\"black\" points=\"1960.5,-308.667 1957,-298.667 1953.5,-308.667 1960.5,-308.667\"/>\r\n",
       "</g>\r\n",
       "<!-- 22 -->\r\n",
       "<g id=\"node23\" class=\"node\"><title>22</title>\r\n",
       "<path fill=\"#d739e5\" fill-opacity=\"0.980392\" stroke=\"black\" d=\"M2251,-298.5C2251,-298.5 2089,-298.5 2089,-298.5 2083,-298.5 2077,-292.5 2077,-286.5 2077,-286.5 2077,-242.5 2077,-242.5 2077,-236.5 2083,-230.5 2089,-230.5 2089,-230.5 2251,-230.5 2251,-230.5 2257,-230.5 2263,-236.5 2263,-242.5 2263,-242.5 2263,-286.5 2263,-286.5 2263,-292.5 2257,-298.5 2251,-298.5\"/>\r\n",
       "<text text-anchor=\"start\" x=\"2136.5\" y=\"-283.3\" font-family=\"Helvetica,sans-Serif\" font-size=\"14.00\">gini = 0.04</text>\r\n",
       "<text text-anchor=\"start\" x=\"2114\" y=\"-268.3\" font-family=\"Helvetica,sans-Serif\" font-size=\"14.00\">samples = 56865</text>\r\n",
       "<text text-anchor=\"start\" x=\"2085\" y=\"-253.3\" font-family=\"Helvetica,sans-Serif\" font-size=\"14.00\">value = [0, 3, 1153, 55709]</text>\r\n",
       "<text text-anchor=\"start\" x=\"2135\" y=\"-238.3\" font-family=\"Helvetica,sans-Serif\" font-size=\"14.00\">class = 3.0</text>\r\n",
       "</g>\r\n",
       "<!-- 8&#45;&gt;22 -->\r\n",
       "<g id=\"edge22\" class=\"edge\"><title>8&#45;&gt;22</title>\r\n",
       "<path fill=\"none\" stroke=\"black\" d=\"M2030.9,-341.907C2053.5,-329.494 2078.27,-315.889 2100.56,-303.644\"/>\r\n",
       "<polygon fill=\"black\" stroke=\"black\" points=\"2102.54,-306.549 2109.62,-298.667 2099.17,-300.414 2102.54,-306.549\"/>\r\n",
       "</g>\r\n",
       "</g>\r\n",
       "</svg>\r\n"
      ],
      "text/plain": [
       "<graphviz.files.Source at 0x1d354082780>"
      ]
     },
     "execution_count": 60,
     "metadata": {},
     "output_type": "execute_result"
    }
   ],
   "source": [
    "dot_data = tree.export_graphviz(clf, out_file=None, \n",
    "feature_names=X_train.columns,  \n",
    "class_names=target.astype(str),  \n",
    "filled=True, rounded=True,  \n",
    "special_characters=True)  \n",
    "graph = graphviz.Source(dot_data)  \n",
    "graph"
   ]
  },
  {
   "cell_type": "code",
   "execution_count": null,
   "metadata": {},
   "outputs": [],
   "source": []
  }
 ],
 "metadata": {
  "kernelspec": {
   "display_name": "Python 3",
   "language": "python",
   "name": "python3"
  },
  "language_info": {
   "codemirror_mode": {
    "name": "ipython",
    "version": 3
   },
   "file_extension": ".py",
   "mimetype": "text/x-python",
   "name": "python",
   "nbconvert_exporter": "python",
   "pygments_lexer": "ipython3",
   "version": "3.6.7"
  }
 },
 "nbformat": 4,
 "nbformat_minor": 2
}
